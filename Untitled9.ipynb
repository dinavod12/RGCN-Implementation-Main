{
  "cells": [
    {
      "cell_type": "code",
      "execution_count": null,
      "metadata": {
        "id": "uDSJn29cbPS9"
      },
      "outputs": [],
      "source": [
        "import pandas as pd"
      ]
    },
    {
      "cell_type": "code",
      "execution_count": null,
      "metadata": {
        "colab": {
          "base_uri": "https://localhost:8080/"
        },
        "id": "gxiQrvCfFdQN",
        "outputId": "49da9750-a79e-4ff5-97f2-8e901cb21744"
      },
      "outputs": [
        {
          "output_type": "stream",
          "name": "stdout",
          "text": [
            "Requirement already satisfied: torch_geometric in /usr/local/lib/python3.10/dist-packages (2.4.0)\n",
            "Requirement already satisfied: tqdm in /usr/local/lib/python3.10/dist-packages (from torch_geometric) (4.66.1)\n",
            "Requirement already satisfied: numpy in /usr/local/lib/python3.10/dist-packages (from torch_geometric) (1.23.5)\n",
            "Requirement already satisfied: scipy in /usr/local/lib/python3.10/dist-packages (from torch_geometric) (1.11.3)\n",
            "Requirement already satisfied: jinja2 in /usr/local/lib/python3.10/dist-packages (from torch_geometric) (3.1.2)\n",
            "Requirement already satisfied: requests in /usr/local/lib/python3.10/dist-packages (from torch_geometric) (2.31.0)\n",
            "Requirement already satisfied: pyparsing in /usr/local/lib/python3.10/dist-packages (from torch_geometric) (3.1.1)\n",
            "Requirement already satisfied: scikit-learn in /usr/local/lib/python3.10/dist-packages (from torch_geometric) (1.2.2)\n",
            "Requirement already satisfied: psutil>=5.8.0 in /usr/local/lib/python3.10/dist-packages (from torch_geometric) (5.9.5)\n",
            "Requirement already satisfied: MarkupSafe>=2.0 in /usr/local/lib/python3.10/dist-packages (from jinja2->torch_geometric) (2.1.3)\n",
            "Requirement already satisfied: charset-normalizer<4,>=2 in /usr/local/lib/python3.10/dist-packages (from requests->torch_geometric) (3.3.1)\n",
            "Requirement already satisfied: idna<4,>=2.5 in /usr/local/lib/python3.10/dist-packages (from requests->torch_geometric) (3.4)\n",
            "Requirement already satisfied: urllib3<3,>=1.21.1 in /usr/local/lib/python3.10/dist-packages (from requests->torch_geometric) (2.0.7)\n",
            "Requirement already satisfied: certifi>=2017.4.17 in /usr/local/lib/python3.10/dist-packages (from requests->torch_geometric) (2023.7.22)\n",
            "Requirement already satisfied: joblib>=1.1.1 in /usr/local/lib/python3.10/dist-packages (from scikit-learn->torch_geometric) (1.3.2)\n",
            "Requirement already satisfied: threadpoolctl>=2.0.0 in /usr/local/lib/python3.10/dist-packages (from scikit-learn->torch_geometric) (3.2.0)\n"
          ]
        }
      ],
      "source": [
        "pip install torch_geometric"
      ]
    },
    {
      "cell_type": "code",
      "execution_count": null,
      "metadata": {
        "id": "ENRqSzh8bPVc"
      },
      "outputs": [],
      "source": [
        "df_node = pd.read_csv(\"/content/drive/MyDrive/Proteins_for_MCODE.csv\")"
      ]
    },
    {
      "cell_type": "code",
      "execution_count": null,
      "metadata": {
        "colab": {
          "base_uri": "https://localhost:8080/",
          "height": 423
        },
        "id": "Jh2_skodwWAA",
        "outputId": "974fd2e7-748f-4ffc-fa7c-70c43ddbc62c"
      },
      "outputs": [
        {
          "output_type": "execute_result",
          "data": {
            "text/plain": [
              "      Node1  Node2  MinimumDistance  MaximumDistance  AverageDistance  \\\n",
              "0         1     56        57.949510        133.65941        92.577095   \n",
              "1         1     48        28.534742        134.45079        82.553880   \n",
              "2         1    107         7.596985         98.75455        46.010666   \n",
              "3         1    145        77.086200        151.20248       113.425330   \n",
              "4         1    524        72.927635        158.22409       118.794304   \n",
              "...     ...    ...              ...              ...              ...   \n",
              "1918   3017   3018         4.335422        221.06035       110.863625   \n",
              "1919   3028   3034        24.405735        101.87383        60.430700   \n",
              "1920   3031   3032         4.521965        147.65855        65.546040   \n",
              "1921   3031   3033         8.512429        175.10011        85.473460   \n",
              "1922   3069   3070        96.578220        237.09047       168.180680   \n",
              "\n",
              "         StdDev  Label  \n",
              "0     11.423593      1  \n",
              "1     17.811756      1  \n",
              "2     14.082993      1  \n",
              "3     11.848842      1  \n",
              "4     13.823575      1  \n",
              "...         ...    ...  \n",
              "1918  37.664210      1  \n",
              "1919  12.912899      1  \n",
              "1920  22.873760      1  \n",
              "1921  24.101467      1  \n",
              "1922  23.699362      1  \n",
              "\n",
              "[1923 rows x 7 columns]"
            ],
            "text/html": [
              "\n",
              "  <div id=\"df-ecf70d14-0fe4-42af-b340-9ebbaf863a20\" class=\"colab-df-container\">\n",
              "    <div>\n",
              "<style scoped>\n",
              "    .dataframe tbody tr th:only-of-type {\n",
              "        vertical-align: middle;\n",
              "    }\n",
              "\n",
              "    .dataframe tbody tr th {\n",
              "        vertical-align: top;\n",
              "    }\n",
              "\n",
              "    .dataframe thead th {\n",
              "        text-align: right;\n",
              "    }\n",
              "</style>\n",
              "<table border=\"1\" class=\"dataframe\">\n",
              "  <thead>\n",
              "    <tr style=\"text-align: right;\">\n",
              "      <th></th>\n",
              "      <th>Node1</th>\n",
              "      <th>Node2</th>\n",
              "      <th>MinimumDistance</th>\n",
              "      <th>MaximumDistance</th>\n",
              "      <th>AverageDistance</th>\n",
              "      <th>StdDev</th>\n",
              "      <th>Label</th>\n",
              "    </tr>\n",
              "  </thead>\n",
              "  <tbody>\n",
              "    <tr>\n",
              "      <th>0</th>\n",
              "      <td>1</td>\n",
              "      <td>56</td>\n",
              "      <td>57.949510</td>\n",
              "      <td>133.65941</td>\n",
              "      <td>92.577095</td>\n",
              "      <td>11.423593</td>\n",
              "      <td>1</td>\n",
              "    </tr>\n",
              "    <tr>\n",
              "      <th>1</th>\n",
              "      <td>1</td>\n",
              "      <td>48</td>\n",
              "      <td>28.534742</td>\n",
              "      <td>134.45079</td>\n",
              "      <td>82.553880</td>\n",
              "      <td>17.811756</td>\n",
              "      <td>1</td>\n",
              "    </tr>\n",
              "    <tr>\n",
              "      <th>2</th>\n",
              "      <td>1</td>\n",
              "      <td>107</td>\n",
              "      <td>7.596985</td>\n",
              "      <td>98.75455</td>\n",
              "      <td>46.010666</td>\n",
              "      <td>14.082993</td>\n",
              "      <td>1</td>\n",
              "    </tr>\n",
              "    <tr>\n",
              "      <th>3</th>\n",
              "      <td>1</td>\n",
              "      <td>145</td>\n",
              "      <td>77.086200</td>\n",
              "      <td>151.20248</td>\n",
              "      <td>113.425330</td>\n",
              "      <td>11.848842</td>\n",
              "      <td>1</td>\n",
              "    </tr>\n",
              "    <tr>\n",
              "      <th>4</th>\n",
              "      <td>1</td>\n",
              "      <td>524</td>\n",
              "      <td>72.927635</td>\n",
              "      <td>158.22409</td>\n",
              "      <td>118.794304</td>\n",
              "      <td>13.823575</td>\n",
              "      <td>1</td>\n",
              "    </tr>\n",
              "    <tr>\n",
              "      <th>...</th>\n",
              "      <td>...</td>\n",
              "      <td>...</td>\n",
              "      <td>...</td>\n",
              "      <td>...</td>\n",
              "      <td>...</td>\n",
              "      <td>...</td>\n",
              "      <td>...</td>\n",
              "    </tr>\n",
              "    <tr>\n",
              "      <th>1918</th>\n",
              "      <td>3017</td>\n",
              "      <td>3018</td>\n",
              "      <td>4.335422</td>\n",
              "      <td>221.06035</td>\n",
              "      <td>110.863625</td>\n",
              "      <td>37.664210</td>\n",
              "      <td>1</td>\n",
              "    </tr>\n",
              "    <tr>\n",
              "      <th>1919</th>\n",
              "      <td>3028</td>\n",
              "      <td>3034</td>\n",
              "      <td>24.405735</td>\n",
              "      <td>101.87383</td>\n",
              "      <td>60.430700</td>\n",
              "      <td>12.912899</td>\n",
              "      <td>1</td>\n",
              "    </tr>\n",
              "    <tr>\n",
              "      <th>1920</th>\n",
              "      <td>3031</td>\n",
              "      <td>3032</td>\n",
              "      <td>4.521965</td>\n",
              "      <td>147.65855</td>\n",
              "      <td>65.546040</td>\n",
              "      <td>22.873760</td>\n",
              "      <td>1</td>\n",
              "    </tr>\n",
              "    <tr>\n",
              "      <th>1921</th>\n",
              "      <td>3031</td>\n",
              "      <td>3033</td>\n",
              "      <td>8.512429</td>\n",
              "      <td>175.10011</td>\n",
              "      <td>85.473460</td>\n",
              "      <td>24.101467</td>\n",
              "      <td>1</td>\n",
              "    </tr>\n",
              "    <tr>\n",
              "      <th>1922</th>\n",
              "      <td>3069</td>\n",
              "      <td>3070</td>\n",
              "      <td>96.578220</td>\n",
              "      <td>237.09047</td>\n",
              "      <td>168.180680</td>\n",
              "      <td>23.699362</td>\n",
              "      <td>1</td>\n",
              "    </tr>\n",
              "  </tbody>\n",
              "</table>\n",
              "<p>1923 rows × 7 columns</p>\n",
              "</div>\n",
              "    <div class=\"colab-df-buttons\">\n",
              "\n",
              "  <div class=\"colab-df-container\">\n",
              "    <button class=\"colab-df-convert\" onclick=\"convertToInteractive('df-ecf70d14-0fe4-42af-b340-9ebbaf863a20')\"\n",
              "            title=\"Convert this dataframe to an interactive table.\"\n",
              "            style=\"display:none;\">\n",
              "\n",
              "  <svg xmlns=\"http://www.w3.org/2000/svg\" height=\"24px\" viewBox=\"0 -960 960 960\">\n",
              "    <path d=\"M120-120v-720h720v720H120Zm60-500h600v-160H180v160Zm220 220h160v-160H400v160Zm0 220h160v-160H400v160ZM180-400h160v-160H180v160Zm440 0h160v-160H620v160ZM180-180h160v-160H180v160Zm440 0h160v-160H620v160Z\"/>\n",
              "  </svg>\n",
              "    </button>\n",
              "\n",
              "  <style>\n",
              "    .colab-df-container {\n",
              "      display:flex;\n",
              "      gap: 12px;\n",
              "    }\n",
              "\n",
              "    .colab-df-convert {\n",
              "      background-color: #E8F0FE;\n",
              "      border: none;\n",
              "      border-radius: 50%;\n",
              "      cursor: pointer;\n",
              "      display: none;\n",
              "      fill: #1967D2;\n",
              "      height: 32px;\n",
              "      padding: 0 0 0 0;\n",
              "      width: 32px;\n",
              "    }\n",
              "\n",
              "    .colab-df-convert:hover {\n",
              "      background-color: #E2EBFA;\n",
              "      box-shadow: 0px 1px 2px rgba(60, 64, 67, 0.3), 0px 1px 3px 1px rgba(60, 64, 67, 0.15);\n",
              "      fill: #174EA6;\n",
              "    }\n",
              "\n",
              "    .colab-df-buttons div {\n",
              "      margin-bottom: 4px;\n",
              "    }\n",
              "\n",
              "    [theme=dark] .colab-df-convert {\n",
              "      background-color: #3B4455;\n",
              "      fill: #D2E3FC;\n",
              "    }\n",
              "\n",
              "    [theme=dark] .colab-df-convert:hover {\n",
              "      background-color: #434B5C;\n",
              "      box-shadow: 0px 1px 3px 1px rgba(0, 0, 0, 0.15);\n",
              "      filter: drop-shadow(0px 1px 2px rgba(0, 0, 0, 0.3));\n",
              "      fill: #FFFFFF;\n",
              "    }\n",
              "  </style>\n",
              "\n",
              "    <script>\n",
              "      const buttonEl =\n",
              "        document.querySelector('#df-ecf70d14-0fe4-42af-b340-9ebbaf863a20 button.colab-df-convert');\n",
              "      buttonEl.style.display =\n",
              "        google.colab.kernel.accessAllowed ? 'block' : 'none';\n",
              "\n",
              "      async function convertToInteractive(key) {\n",
              "        const element = document.querySelector('#df-ecf70d14-0fe4-42af-b340-9ebbaf863a20');\n",
              "        const dataTable =\n",
              "          await google.colab.kernel.invokeFunction('convertToInteractive',\n",
              "                                                    [key], {});\n",
              "        if (!dataTable) return;\n",
              "\n",
              "        const docLinkHtml = 'Like what you see? Visit the ' +\n",
              "          '<a target=\"_blank\" href=https://colab.research.google.com/notebooks/data_table.ipynb>data table notebook</a>'\n",
              "          + ' to learn more about interactive tables.';\n",
              "        element.innerHTML = '';\n",
              "        dataTable['output_type'] = 'display_data';\n",
              "        await google.colab.output.renderOutput(dataTable, element);\n",
              "        const docLink = document.createElement('div');\n",
              "        docLink.innerHTML = docLinkHtml;\n",
              "        element.appendChild(docLink);\n",
              "      }\n",
              "    </script>\n",
              "  </div>\n",
              "\n",
              "\n",
              "<div id=\"df-59fb8753-8243-4036-9dea-7b1592251136\">\n",
              "  <button class=\"colab-df-quickchart\" onclick=\"quickchart('df-59fb8753-8243-4036-9dea-7b1592251136')\"\n",
              "            title=\"Suggest charts.\"\n",
              "            style=\"display:none;\">\n",
              "\n",
              "<svg xmlns=\"http://www.w3.org/2000/svg\" height=\"24px\"viewBox=\"0 0 24 24\"\n",
              "     width=\"24px\">\n",
              "    <g>\n",
              "        <path d=\"M19 3H5c-1.1 0-2 .9-2 2v14c0 1.1.9 2 2 2h14c1.1 0 2-.9 2-2V5c0-1.1-.9-2-2-2zM9 17H7v-7h2v7zm4 0h-2V7h2v10zm4 0h-2v-4h2v4z\"/>\n",
              "    </g>\n",
              "</svg>\n",
              "  </button>\n",
              "\n",
              "<style>\n",
              "  .colab-df-quickchart {\n",
              "      --bg-color: #E8F0FE;\n",
              "      --fill-color: #1967D2;\n",
              "      --hover-bg-color: #E2EBFA;\n",
              "      --hover-fill-color: #174EA6;\n",
              "      --disabled-fill-color: #AAA;\n",
              "      --disabled-bg-color: #DDD;\n",
              "  }\n",
              "\n",
              "  [theme=dark] .colab-df-quickchart {\n",
              "      --bg-color: #3B4455;\n",
              "      --fill-color: #D2E3FC;\n",
              "      --hover-bg-color: #434B5C;\n",
              "      --hover-fill-color: #FFFFFF;\n",
              "      --disabled-bg-color: #3B4455;\n",
              "      --disabled-fill-color: #666;\n",
              "  }\n",
              "\n",
              "  .colab-df-quickchart {\n",
              "    background-color: var(--bg-color);\n",
              "    border: none;\n",
              "    border-radius: 50%;\n",
              "    cursor: pointer;\n",
              "    display: none;\n",
              "    fill: var(--fill-color);\n",
              "    height: 32px;\n",
              "    padding: 0;\n",
              "    width: 32px;\n",
              "  }\n",
              "\n",
              "  .colab-df-quickchart:hover {\n",
              "    background-color: var(--hover-bg-color);\n",
              "    box-shadow: 0 1px 2px rgba(60, 64, 67, 0.3), 0 1px 3px 1px rgba(60, 64, 67, 0.15);\n",
              "    fill: var(--button-hover-fill-color);\n",
              "  }\n",
              "\n",
              "  .colab-df-quickchart-complete:disabled,\n",
              "  .colab-df-quickchart-complete:disabled:hover {\n",
              "    background-color: var(--disabled-bg-color);\n",
              "    fill: var(--disabled-fill-color);\n",
              "    box-shadow: none;\n",
              "  }\n",
              "\n",
              "  .colab-df-spinner {\n",
              "    border: 2px solid var(--fill-color);\n",
              "    border-color: transparent;\n",
              "    border-bottom-color: var(--fill-color);\n",
              "    animation:\n",
              "      spin 1s steps(1) infinite;\n",
              "  }\n",
              "\n",
              "  @keyframes spin {\n",
              "    0% {\n",
              "      border-color: transparent;\n",
              "      border-bottom-color: var(--fill-color);\n",
              "      border-left-color: var(--fill-color);\n",
              "    }\n",
              "    20% {\n",
              "      border-color: transparent;\n",
              "      border-left-color: var(--fill-color);\n",
              "      border-top-color: var(--fill-color);\n",
              "    }\n",
              "    30% {\n",
              "      border-color: transparent;\n",
              "      border-left-color: var(--fill-color);\n",
              "      border-top-color: var(--fill-color);\n",
              "      border-right-color: var(--fill-color);\n",
              "    }\n",
              "    40% {\n",
              "      border-color: transparent;\n",
              "      border-right-color: var(--fill-color);\n",
              "      border-top-color: var(--fill-color);\n",
              "    }\n",
              "    60% {\n",
              "      border-color: transparent;\n",
              "      border-right-color: var(--fill-color);\n",
              "    }\n",
              "    80% {\n",
              "      border-color: transparent;\n",
              "      border-right-color: var(--fill-color);\n",
              "      border-bottom-color: var(--fill-color);\n",
              "    }\n",
              "    90% {\n",
              "      border-color: transparent;\n",
              "      border-bottom-color: var(--fill-color);\n",
              "    }\n",
              "  }\n",
              "</style>\n",
              "\n",
              "  <script>\n",
              "    async function quickchart(key) {\n",
              "      const quickchartButtonEl =\n",
              "        document.querySelector('#' + key + ' button');\n",
              "      quickchartButtonEl.disabled = true;  // To prevent multiple clicks.\n",
              "      quickchartButtonEl.classList.add('colab-df-spinner');\n",
              "      try {\n",
              "        const charts = await google.colab.kernel.invokeFunction(\n",
              "            'suggestCharts', [key], {});\n",
              "      } catch (error) {\n",
              "        console.error('Error during call to suggestCharts:', error);\n",
              "      }\n",
              "      quickchartButtonEl.classList.remove('colab-df-spinner');\n",
              "      quickchartButtonEl.classList.add('colab-df-quickchart-complete');\n",
              "    }\n",
              "    (() => {\n",
              "      let quickchartButtonEl =\n",
              "        document.querySelector('#df-59fb8753-8243-4036-9dea-7b1592251136 button');\n",
              "      quickchartButtonEl.style.display =\n",
              "        google.colab.kernel.accessAllowed ? 'block' : 'none';\n",
              "    })();\n",
              "  </script>\n",
              "</div>\n",
              "    </div>\n",
              "  </div>\n"
            ]
          },
          "metadata": {},
          "execution_count": 158
        }
      ],
      "source": [
        "df_node"
      ]
    },
    {
      "cell_type": "code",
      "execution_count": null,
      "metadata": {
        "id": "2KwwbcdkbPX7"
      },
      "outputs": [],
      "source": [
        "df_edge_feature =  pd.read_csv(\"/content/drive/MyDrive/edge_features.csv\")"
      ]
    },
    {
      "cell_type": "code",
      "execution_count": null,
      "metadata": {
        "colab": {
          "base_uri": "https://localhost:8080/",
          "height": 206
        },
        "id": "N4d-T9CNJl8x",
        "outputId": "9cb71583-74d1-456f-9a72-f14d5b5354b0"
      },
      "outputs": [
        {
          "output_type": "execute_result",
          "data": {
            "text/plain": [
              "   MinimumDistance  MaximumDistance  AverageDistance     StdDev  Unnamed: 4  \\\n",
              "0        57.949510        133.65941        92.577095  11.423593         NaN   \n",
              "1        28.534742        134.45079        82.553880  17.811756         NaN   \n",
              "2         7.596985         98.75455        46.010666  14.082993         NaN   \n",
              "3        77.086200        151.20248       113.425330  11.848842         NaN   \n",
              "4        72.927635        158.22409       118.794304  13.823575         NaN   \n",
              "\n",
              "   Unnamed: 5  \n",
              "0         NaN  \n",
              "1         NaN  \n",
              "2         NaN  \n",
              "3         NaN  \n",
              "4         NaN  "
            ],
            "text/html": [
              "\n",
              "  <div id=\"df-53929dd8-302e-4809-942e-2bddb129f015\" class=\"colab-df-container\">\n",
              "    <div>\n",
              "<style scoped>\n",
              "    .dataframe tbody tr th:only-of-type {\n",
              "        vertical-align: middle;\n",
              "    }\n",
              "\n",
              "    .dataframe tbody tr th {\n",
              "        vertical-align: top;\n",
              "    }\n",
              "\n",
              "    .dataframe thead th {\n",
              "        text-align: right;\n",
              "    }\n",
              "</style>\n",
              "<table border=\"1\" class=\"dataframe\">\n",
              "  <thead>\n",
              "    <tr style=\"text-align: right;\">\n",
              "      <th></th>\n",
              "      <th>MinimumDistance</th>\n",
              "      <th>MaximumDistance</th>\n",
              "      <th>AverageDistance</th>\n",
              "      <th>StdDev</th>\n",
              "      <th>Unnamed: 4</th>\n",
              "      <th>Unnamed: 5</th>\n",
              "    </tr>\n",
              "  </thead>\n",
              "  <tbody>\n",
              "    <tr>\n",
              "      <th>0</th>\n",
              "      <td>57.949510</td>\n",
              "      <td>133.65941</td>\n",
              "      <td>92.577095</td>\n",
              "      <td>11.423593</td>\n",
              "      <td>NaN</td>\n",
              "      <td>NaN</td>\n",
              "    </tr>\n",
              "    <tr>\n",
              "      <th>1</th>\n",
              "      <td>28.534742</td>\n",
              "      <td>134.45079</td>\n",
              "      <td>82.553880</td>\n",
              "      <td>17.811756</td>\n",
              "      <td>NaN</td>\n",
              "      <td>NaN</td>\n",
              "    </tr>\n",
              "    <tr>\n",
              "      <th>2</th>\n",
              "      <td>7.596985</td>\n",
              "      <td>98.75455</td>\n",
              "      <td>46.010666</td>\n",
              "      <td>14.082993</td>\n",
              "      <td>NaN</td>\n",
              "      <td>NaN</td>\n",
              "    </tr>\n",
              "    <tr>\n",
              "      <th>3</th>\n",
              "      <td>77.086200</td>\n",
              "      <td>151.20248</td>\n",
              "      <td>113.425330</td>\n",
              "      <td>11.848842</td>\n",
              "      <td>NaN</td>\n",
              "      <td>NaN</td>\n",
              "    </tr>\n",
              "    <tr>\n",
              "      <th>4</th>\n",
              "      <td>72.927635</td>\n",
              "      <td>158.22409</td>\n",
              "      <td>118.794304</td>\n",
              "      <td>13.823575</td>\n",
              "      <td>NaN</td>\n",
              "      <td>NaN</td>\n",
              "    </tr>\n",
              "  </tbody>\n",
              "</table>\n",
              "</div>\n",
              "    <div class=\"colab-df-buttons\">\n",
              "\n",
              "  <div class=\"colab-df-container\">\n",
              "    <button class=\"colab-df-convert\" onclick=\"convertToInteractive('df-53929dd8-302e-4809-942e-2bddb129f015')\"\n",
              "            title=\"Convert this dataframe to an interactive table.\"\n",
              "            style=\"display:none;\">\n",
              "\n",
              "  <svg xmlns=\"http://www.w3.org/2000/svg\" height=\"24px\" viewBox=\"0 -960 960 960\">\n",
              "    <path d=\"M120-120v-720h720v720H120Zm60-500h600v-160H180v160Zm220 220h160v-160H400v160Zm0 220h160v-160H400v160ZM180-400h160v-160H180v160Zm440 0h160v-160H620v160ZM180-180h160v-160H180v160Zm440 0h160v-160H620v160Z\"/>\n",
              "  </svg>\n",
              "    </button>\n",
              "\n",
              "  <style>\n",
              "    .colab-df-container {\n",
              "      display:flex;\n",
              "      gap: 12px;\n",
              "    }\n",
              "\n",
              "    .colab-df-convert {\n",
              "      background-color: #E8F0FE;\n",
              "      border: none;\n",
              "      border-radius: 50%;\n",
              "      cursor: pointer;\n",
              "      display: none;\n",
              "      fill: #1967D2;\n",
              "      height: 32px;\n",
              "      padding: 0 0 0 0;\n",
              "      width: 32px;\n",
              "    }\n",
              "\n",
              "    .colab-df-convert:hover {\n",
              "      background-color: #E2EBFA;\n",
              "      box-shadow: 0px 1px 2px rgba(60, 64, 67, 0.3), 0px 1px 3px 1px rgba(60, 64, 67, 0.15);\n",
              "      fill: #174EA6;\n",
              "    }\n",
              "\n",
              "    .colab-df-buttons div {\n",
              "      margin-bottom: 4px;\n",
              "    }\n",
              "\n",
              "    [theme=dark] .colab-df-convert {\n",
              "      background-color: #3B4455;\n",
              "      fill: #D2E3FC;\n",
              "    }\n",
              "\n",
              "    [theme=dark] .colab-df-convert:hover {\n",
              "      background-color: #434B5C;\n",
              "      box-shadow: 0px 1px 3px 1px rgba(0, 0, 0, 0.15);\n",
              "      filter: drop-shadow(0px 1px 2px rgba(0, 0, 0, 0.3));\n",
              "      fill: #FFFFFF;\n",
              "    }\n",
              "  </style>\n",
              "\n",
              "    <script>\n",
              "      const buttonEl =\n",
              "        document.querySelector('#df-53929dd8-302e-4809-942e-2bddb129f015 button.colab-df-convert');\n",
              "      buttonEl.style.display =\n",
              "        google.colab.kernel.accessAllowed ? 'block' : 'none';\n",
              "\n",
              "      async function convertToInteractive(key) {\n",
              "        const element = document.querySelector('#df-53929dd8-302e-4809-942e-2bddb129f015');\n",
              "        const dataTable =\n",
              "          await google.colab.kernel.invokeFunction('convertToInteractive',\n",
              "                                                    [key], {});\n",
              "        if (!dataTable) return;\n",
              "\n",
              "        const docLinkHtml = 'Like what you see? Visit the ' +\n",
              "          '<a target=\"_blank\" href=https://colab.research.google.com/notebooks/data_table.ipynb>data table notebook</a>'\n",
              "          + ' to learn more about interactive tables.';\n",
              "        element.innerHTML = '';\n",
              "        dataTable['output_type'] = 'display_data';\n",
              "        await google.colab.output.renderOutput(dataTable, element);\n",
              "        const docLink = document.createElement('div');\n",
              "        docLink.innerHTML = docLinkHtml;\n",
              "        element.appendChild(docLink);\n",
              "      }\n",
              "    </script>\n",
              "  </div>\n",
              "\n",
              "\n",
              "<div id=\"df-23d415e1-87b7-41e6-bc7a-87b3a3482424\">\n",
              "  <button class=\"colab-df-quickchart\" onclick=\"quickchart('df-23d415e1-87b7-41e6-bc7a-87b3a3482424')\"\n",
              "            title=\"Suggest charts.\"\n",
              "            style=\"display:none;\">\n",
              "\n",
              "<svg xmlns=\"http://www.w3.org/2000/svg\" height=\"24px\"viewBox=\"0 0 24 24\"\n",
              "     width=\"24px\">\n",
              "    <g>\n",
              "        <path d=\"M19 3H5c-1.1 0-2 .9-2 2v14c0 1.1.9 2 2 2h14c1.1 0 2-.9 2-2V5c0-1.1-.9-2-2-2zM9 17H7v-7h2v7zm4 0h-2V7h2v10zm4 0h-2v-4h2v4z\"/>\n",
              "    </g>\n",
              "</svg>\n",
              "  </button>\n",
              "\n",
              "<style>\n",
              "  .colab-df-quickchart {\n",
              "      --bg-color: #E8F0FE;\n",
              "      --fill-color: #1967D2;\n",
              "      --hover-bg-color: #E2EBFA;\n",
              "      --hover-fill-color: #174EA6;\n",
              "      --disabled-fill-color: #AAA;\n",
              "      --disabled-bg-color: #DDD;\n",
              "  }\n",
              "\n",
              "  [theme=dark] .colab-df-quickchart {\n",
              "      --bg-color: #3B4455;\n",
              "      --fill-color: #D2E3FC;\n",
              "      --hover-bg-color: #434B5C;\n",
              "      --hover-fill-color: #FFFFFF;\n",
              "      --disabled-bg-color: #3B4455;\n",
              "      --disabled-fill-color: #666;\n",
              "  }\n",
              "\n",
              "  .colab-df-quickchart {\n",
              "    background-color: var(--bg-color);\n",
              "    border: none;\n",
              "    border-radius: 50%;\n",
              "    cursor: pointer;\n",
              "    display: none;\n",
              "    fill: var(--fill-color);\n",
              "    height: 32px;\n",
              "    padding: 0;\n",
              "    width: 32px;\n",
              "  }\n",
              "\n",
              "  .colab-df-quickchart:hover {\n",
              "    background-color: var(--hover-bg-color);\n",
              "    box-shadow: 0 1px 2px rgba(60, 64, 67, 0.3), 0 1px 3px 1px rgba(60, 64, 67, 0.15);\n",
              "    fill: var(--button-hover-fill-color);\n",
              "  }\n",
              "\n",
              "  .colab-df-quickchart-complete:disabled,\n",
              "  .colab-df-quickchart-complete:disabled:hover {\n",
              "    background-color: var(--disabled-bg-color);\n",
              "    fill: var(--disabled-fill-color);\n",
              "    box-shadow: none;\n",
              "  }\n",
              "\n",
              "  .colab-df-spinner {\n",
              "    border: 2px solid var(--fill-color);\n",
              "    border-color: transparent;\n",
              "    border-bottom-color: var(--fill-color);\n",
              "    animation:\n",
              "      spin 1s steps(1) infinite;\n",
              "  }\n",
              "\n",
              "  @keyframes spin {\n",
              "    0% {\n",
              "      border-color: transparent;\n",
              "      border-bottom-color: var(--fill-color);\n",
              "      border-left-color: var(--fill-color);\n",
              "    }\n",
              "    20% {\n",
              "      border-color: transparent;\n",
              "      border-left-color: var(--fill-color);\n",
              "      border-top-color: var(--fill-color);\n",
              "    }\n",
              "    30% {\n",
              "      border-color: transparent;\n",
              "      border-left-color: var(--fill-color);\n",
              "      border-top-color: var(--fill-color);\n",
              "      border-right-color: var(--fill-color);\n",
              "    }\n",
              "    40% {\n",
              "      border-color: transparent;\n",
              "      border-right-color: var(--fill-color);\n",
              "      border-top-color: var(--fill-color);\n",
              "    }\n",
              "    60% {\n",
              "      border-color: transparent;\n",
              "      border-right-color: var(--fill-color);\n",
              "    }\n",
              "    80% {\n",
              "      border-color: transparent;\n",
              "      border-right-color: var(--fill-color);\n",
              "      border-bottom-color: var(--fill-color);\n",
              "    }\n",
              "    90% {\n",
              "      border-color: transparent;\n",
              "      border-bottom-color: var(--fill-color);\n",
              "    }\n",
              "  }\n",
              "</style>\n",
              "\n",
              "  <script>\n",
              "    async function quickchart(key) {\n",
              "      const quickchartButtonEl =\n",
              "        document.querySelector('#' + key + ' button');\n",
              "      quickchartButtonEl.disabled = true;  // To prevent multiple clicks.\n",
              "      quickchartButtonEl.classList.add('colab-df-spinner');\n",
              "      try {\n",
              "        const charts = await google.colab.kernel.invokeFunction(\n",
              "            'suggestCharts', [key], {});\n",
              "      } catch (error) {\n",
              "        console.error('Error during call to suggestCharts:', error);\n",
              "      }\n",
              "      quickchartButtonEl.classList.remove('colab-df-spinner');\n",
              "      quickchartButtonEl.classList.add('colab-df-quickchart-complete');\n",
              "    }\n",
              "    (() => {\n",
              "      let quickchartButtonEl =\n",
              "        document.querySelector('#df-23d415e1-87b7-41e6-bc7a-87b3a3482424 button');\n",
              "      quickchartButtonEl.style.display =\n",
              "        google.colab.kernel.accessAllowed ? 'block' : 'none';\n",
              "    })();\n",
              "  </script>\n",
              "</div>\n",
              "    </div>\n",
              "  </div>\n"
            ]
          },
          "metadata": {},
          "execution_count": 160
        }
      ],
      "source": [
        "df_edge_feature.head()"
      ]
    },
    {
      "cell_type": "code",
      "execution_count": null,
      "metadata": {
        "id": "evEQnnncbPaM"
      },
      "outputs": [],
      "source": [
        "import json\n",
        "\n",
        "with open(\"/content/drive/MyDrive/orca_count_dictionary_ver1.json\") as f:\n",
        "    json_data = json.load(f)"
      ]
    },
    {
      "cell_type": "code",
      "execution_count": null,
      "metadata": {
        "id": "8acuqgxy16VH"
      },
      "outputs": [],
      "source": [
        "node_features_df = pd.DataFrame(json_data).transpose()"
      ]
    },
    {
      "cell_type": "code",
      "execution_count": null,
      "metadata": {
        "colab": {
          "base_uri": "https://localhost:8080/",
          "height": 423
        },
        "id": "icZHC15HuV7q",
        "outputId": "22f3dba9-5f58-42d0-b8c7-af5ccf527c38"
      },
      "outputs": [
        {
          "output_type": "execute_result",
          "data": {
            "text/plain": [
              "        0    1    2   3    4     5    6     7   8   9   ...  63  64  65  66  \\\n",
              "P29375   1   24    0   0  145     0  265     0   0  11  ...   0   0   0   0   \n",
              "P06400  25  145  289  11  917  3262  747  2069  19  69  ...   1  16   1   0   \n",
              "P20226  17   73  129   7  704  1089  288   584   7  36  ...   1   0   3   3   \n",
              "P09086   1   16    0   0   73     0  113     0   0   7  ...   0   0   0   0   \n",
              "P22681  13   87   77   1  898   997  521   275   8  25  ...   0   0   0   0   \n",
              "...     ..  ...  ...  ..  ...   ...  ...   ...  ..  ..  ...  ..  ..  ..  ..   \n",
              "Q96DA6   1   10    0   0   25     0   43     0   0   2  ...   0   0   0   0   \n",
              "Q99807   1   10    0   0   25     0   43     0   0   2  ...   0   0   0   0   \n",
              "Q16740   4   11    4   2   35    22   36     0   0   1  ...   0   0   0   0   \n",
              "O76031   2    2    0   1   11     0    0     0   0   1  ...   0   0   0   0   \n",
              "P21912   2    2    0   1   11     0    0     0   0   1  ...   0   0   0   0   \n",
              "\n",
              "        67  68  69  70  71  72  \n",
              "P29375   0   0   0   0   0   0  \n",
              "P06400   0   3   5   0   0   0  \n",
              "P20226   2   0   0   0   1   0  \n",
              "P09086   0   0   0   0   0   0  \n",
              "P22681   0   0   0   0   0   0  \n",
              "...     ..  ..  ..  ..  ..  ..  \n",
              "Q96DA6   0   0   0   0   0   0  \n",
              "Q99807   0   0   0   0   0   0  \n",
              "Q16740   0   0   0   0   0   0  \n",
              "O76031   0   0   0   0   0   0  \n",
              "P21912   0   0   0   0   0   0  \n",
              "\n",
              "[3084 rows x 73 columns]"
            ],
            "text/html": [
              "\n",
              "  <div id=\"df-6848a3a2-cecb-4428-8f99-b565b186fd07\" class=\"colab-df-container\">\n",
              "    <div>\n",
              "<style scoped>\n",
              "    .dataframe tbody tr th:only-of-type {\n",
              "        vertical-align: middle;\n",
              "    }\n",
              "\n",
              "    .dataframe tbody tr th {\n",
              "        vertical-align: top;\n",
              "    }\n",
              "\n",
              "    .dataframe thead th {\n",
              "        text-align: right;\n",
              "    }\n",
              "</style>\n",
              "<table border=\"1\" class=\"dataframe\">\n",
              "  <thead>\n",
              "    <tr style=\"text-align: right;\">\n",
              "      <th></th>\n",
              "      <th>0</th>\n",
              "      <th>1</th>\n",
              "      <th>2</th>\n",
              "      <th>3</th>\n",
              "      <th>4</th>\n",
              "      <th>5</th>\n",
              "      <th>6</th>\n",
              "      <th>7</th>\n",
              "      <th>8</th>\n",
              "      <th>9</th>\n",
              "      <th>...</th>\n",
              "      <th>63</th>\n",
              "      <th>64</th>\n",
              "      <th>65</th>\n",
              "      <th>66</th>\n",
              "      <th>67</th>\n",
              "      <th>68</th>\n",
              "      <th>69</th>\n",
              "      <th>70</th>\n",
              "      <th>71</th>\n",
              "      <th>72</th>\n",
              "    </tr>\n",
              "  </thead>\n",
              "  <tbody>\n",
              "    <tr>\n",
              "      <th>P29375</th>\n",
              "      <td>1</td>\n",
              "      <td>24</td>\n",
              "      <td>0</td>\n",
              "      <td>0</td>\n",
              "      <td>145</td>\n",
              "      <td>0</td>\n",
              "      <td>265</td>\n",
              "      <td>0</td>\n",
              "      <td>0</td>\n",
              "      <td>11</td>\n",
              "      <td>...</td>\n",
              "      <td>0</td>\n",
              "      <td>0</td>\n",
              "      <td>0</td>\n",
              "      <td>0</td>\n",
              "      <td>0</td>\n",
              "      <td>0</td>\n",
              "      <td>0</td>\n",
              "      <td>0</td>\n",
              "      <td>0</td>\n",
              "      <td>0</td>\n",
              "    </tr>\n",
              "    <tr>\n",
              "      <th>P06400</th>\n",
              "      <td>25</td>\n",
              "      <td>145</td>\n",
              "      <td>289</td>\n",
              "      <td>11</td>\n",
              "      <td>917</td>\n",
              "      <td>3262</td>\n",
              "      <td>747</td>\n",
              "      <td>2069</td>\n",
              "      <td>19</td>\n",
              "      <td>69</td>\n",
              "      <td>...</td>\n",
              "      <td>1</td>\n",
              "      <td>16</td>\n",
              "      <td>1</td>\n",
              "      <td>0</td>\n",
              "      <td>0</td>\n",
              "      <td>3</td>\n",
              "      <td>5</td>\n",
              "      <td>0</td>\n",
              "      <td>0</td>\n",
              "      <td>0</td>\n",
              "    </tr>\n",
              "    <tr>\n",
              "      <th>P20226</th>\n",
              "      <td>17</td>\n",
              "      <td>73</td>\n",
              "      <td>129</td>\n",
              "      <td>7</td>\n",
              "      <td>704</td>\n",
              "      <td>1089</td>\n",
              "      <td>288</td>\n",
              "      <td>584</td>\n",
              "      <td>7</td>\n",
              "      <td>36</td>\n",
              "      <td>...</td>\n",
              "      <td>1</td>\n",
              "      <td>0</td>\n",
              "      <td>3</td>\n",
              "      <td>3</td>\n",
              "      <td>2</td>\n",
              "      <td>0</td>\n",
              "      <td>0</td>\n",
              "      <td>0</td>\n",
              "      <td>1</td>\n",
              "      <td>0</td>\n",
              "    </tr>\n",
              "    <tr>\n",
              "      <th>P09086</th>\n",
              "      <td>1</td>\n",
              "      <td>16</td>\n",
              "      <td>0</td>\n",
              "      <td>0</td>\n",
              "      <td>73</td>\n",
              "      <td>0</td>\n",
              "      <td>113</td>\n",
              "      <td>0</td>\n",
              "      <td>0</td>\n",
              "      <td>7</td>\n",
              "      <td>...</td>\n",
              "      <td>0</td>\n",
              "      <td>0</td>\n",
              "      <td>0</td>\n",
              "      <td>0</td>\n",
              "      <td>0</td>\n",
              "      <td>0</td>\n",
              "      <td>0</td>\n",
              "      <td>0</td>\n",
              "      <td>0</td>\n",
              "      <td>0</td>\n",
              "    </tr>\n",
              "    <tr>\n",
              "      <th>P22681</th>\n",
              "      <td>13</td>\n",
              "      <td>87</td>\n",
              "      <td>77</td>\n",
              "      <td>1</td>\n",
              "      <td>898</td>\n",
              "      <td>997</td>\n",
              "      <td>521</td>\n",
              "      <td>275</td>\n",
              "      <td>8</td>\n",
              "      <td>25</td>\n",
              "      <td>...</td>\n",
              "      <td>0</td>\n",
              "      <td>0</td>\n",
              "      <td>0</td>\n",
              "      <td>0</td>\n",
              "      <td>0</td>\n",
              "      <td>0</td>\n",
              "      <td>0</td>\n",
              "      <td>0</td>\n",
              "      <td>0</td>\n",
              "      <td>0</td>\n",
              "    </tr>\n",
              "    <tr>\n",
              "      <th>...</th>\n",
              "      <td>...</td>\n",
              "      <td>...</td>\n",
              "      <td>...</td>\n",
              "      <td>...</td>\n",
              "      <td>...</td>\n",
              "      <td>...</td>\n",
              "      <td>...</td>\n",
              "      <td>...</td>\n",
              "      <td>...</td>\n",
              "      <td>...</td>\n",
              "      <td>...</td>\n",
              "      <td>...</td>\n",
              "      <td>...</td>\n",
              "      <td>...</td>\n",
              "      <td>...</td>\n",
              "      <td>...</td>\n",
              "      <td>...</td>\n",
              "      <td>...</td>\n",
              "      <td>...</td>\n",
              "      <td>...</td>\n",
              "      <td>...</td>\n",
              "    </tr>\n",
              "    <tr>\n",
              "      <th>Q96DA6</th>\n",
              "      <td>1</td>\n",
              "      <td>10</td>\n",
              "      <td>0</td>\n",
              "      <td>0</td>\n",
              "      <td>25</td>\n",
              "      <td>0</td>\n",
              "      <td>43</td>\n",
              "      <td>0</td>\n",
              "      <td>0</td>\n",
              "      <td>2</td>\n",
              "      <td>...</td>\n",
              "      <td>0</td>\n",
              "      <td>0</td>\n",
              "      <td>0</td>\n",
              "      <td>0</td>\n",
              "      <td>0</td>\n",
              "      <td>0</td>\n",
              "      <td>0</td>\n",
              "      <td>0</td>\n",
              "      <td>0</td>\n",
              "      <td>0</td>\n",
              "    </tr>\n",
              "    <tr>\n",
              "      <th>Q99807</th>\n",
              "      <td>1</td>\n",
              "      <td>10</td>\n",
              "      <td>0</td>\n",
              "      <td>0</td>\n",
              "      <td>25</td>\n",
              "      <td>0</td>\n",
              "      <td>43</td>\n",
              "      <td>0</td>\n",
              "      <td>0</td>\n",
              "      <td>2</td>\n",
              "      <td>...</td>\n",
              "      <td>0</td>\n",
              "      <td>0</td>\n",
              "      <td>0</td>\n",
              "      <td>0</td>\n",
              "      <td>0</td>\n",
              "      <td>0</td>\n",
              "      <td>0</td>\n",
              "      <td>0</td>\n",
              "      <td>0</td>\n",
              "      <td>0</td>\n",
              "    </tr>\n",
              "    <tr>\n",
              "      <th>Q16740</th>\n",
              "      <td>4</td>\n",
              "      <td>11</td>\n",
              "      <td>4</td>\n",
              "      <td>2</td>\n",
              "      <td>35</td>\n",
              "      <td>22</td>\n",
              "      <td>36</td>\n",
              "      <td>0</td>\n",
              "      <td>0</td>\n",
              "      <td>1</td>\n",
              "      <td>...</td>\n",
              "      <td>0</td>\n",
              "      <td>0</td>\n",
              "      <td>0</td>\n",
              "      <td>0</td>\n",
              "      <td>0</td>\n",
              "      <td>0</td>\n",
              "      <td>0</td>\n",
              "      <td>0</td>\n",
              "      <td>0</td>\n",
              "      <td>0</td>\n",
              "    </tr>\n",
              "    <tr>\n",
              "      <th>O76031</th>\n",
              "      <td>2</td>\n",
              "      <td>2</td>\n",
              "      <td>0</td>\n",
              "      <td>1</td>\n",
              "      <td>11</td>\n",
              "      <td>0</td>\n",
              "      <td>0</td>\n",
              "      <td>0</td>\n",
              "      <td>0</td>\n",
              "      <td>1</td>\n",
              "      <td>...</td>\n",
              "      <td>0</td>\n",
              "      <td>0</td>\n",
              "      <td>0</td>\n",
              "      <td>0</td>\n",
              "      <td>0</td>\n",
              "      <td>0</td>\n",
              "      <td>0</td>\n",
              "      <td>0</td>\n",
              "      <td>0</td>\n",
              "      <td>0</td>\n",
              "    </tr>\n",
              "    <tr>\n",
              "      <th>P21912</th>\n",
              "      <td>2</td>\n",
              "      <td>2</td>\n",
              "      <td>0</td>\n",
              "      <td>1</td>\n",
              "      <td>11</td>\n",
              "      <td>0</td>\n",
              "      <td>0</td>\n",
              "      <td>0</td>\n",
              "      <td>0</td>\n",
              "      <td>1</td>\n",
              "      <td>...</td>\n",
              "      <td>0</td>\n",
              "      <td>0</td>\n",
              "      <td>0</td>\n",
              "      <td>0</td>\n",
              "      <td>0</td>\n",
              "      <td>0</td>\n",
              "      <td>0</td>\n",
              "      <td>0</td>\n",
              "      <td>0</td>\n",
              "      <td>0</td>\n",
              "    </tr>\n",
              "  </tbody>\n",
              "</table>\n",
              "<p>3084 rows × 73 columns</p>\n",
              "</div>\n",
              "    <div class=\"colab-df-buttons\">\n",
              "\n",
              "  <div class=\"colab-df-container\">\n",
              "    <button class=\"colab-df-convert\" onclick=\"convertToInteractive('df-6848a3a2-cecb-4428-8f99-b565b186fd07')\"\n",
              "            title=\"Convert this dataframe to an interactive table.\"\n",
              "            style=\"display:none;\">\n",
              "\n",
              "  <svg xmlns=\"http://www.w3.org/2000/svg\" height=\"24px\" viewBox=\"0 -960 960 960\">\n",
              "    <path d=\"M120-120v-720h720v720H120Zm60-500h600v-160H180v160Zm220 220h160v-160H400v160Zm0 220h160v-160H400v160ZM180-400h160v-160H180v160Zm440 0h160v-160H620v160ZM180-180h160v-160H180v160Zm440 0h160v-160H620v160Z\"/>\n",
              "  </svg>\n",
              "    </button>\n",
              "\n",
              "  <style>\n",
              "    .colab-df-container {\n",
              "      display:flex;\n",
              "      gap: 12px;\n",
              "    }\n",
              "\n",
              "    .colab-df-convert {\n",
              "      background-color: #E8F0FE;\n",
              "      border: none;\n",
              "      border-radius: 50%;\n",
              "      cursor: pointer;\n",
              "      display: none;\n",
              "      fill: #1967D2;\n",
              "      height: 32px;\n",
              "      padding: 0 0 0 0;\n",
              "      width: 32px;\n",
              "    }\n",
              "\n",
              "    .colab-df-convert:hover {\n",
              "      background-color: #E2EBFA;\n",
              "      box-shadow: 0px 1px 2px rgba(60, 64, 67, 0.3), 0px 1px 3px 1px rgba(60, 64, 67, 0.15);\n",
              "      fill: #174EA6;\n",
              "    }\n",
              "\n",
              "    .colab-df-buttons div {\n",
              "      margin-bottom: 4px;\n",
              "    }\n",
              "\n",
              "    [theme=dark] .colab-df-convert {\n",
              "      background-color: #3B4455;\n",
              "      fill: #D2E3FC;\n",
              "    }\n",
              "\n",
              "    [theme=dark] .colab-df-convert:hover {\n",
              "      background-color: #434B5C;\n",
              "      box-shadow: 0px 1px 3px 1px rgba(0, 0, 0, 0.15);\n",
              "      filter: drop-shadow(0px 1px 2px rgba(0, 0, 0, 0.3));\n",
              "      fill: #FFFFFF;\n",
              "    }\n",
              "  </style>\n",
              "\n",
              "    <script>\n",
              "      const buttonEl =\n",
              "        document.querySelector('#df-6848a3a2-cecb-4428-8f99-b565b186fd07 button.colab-df-convert');\n",
              "      buttonEl.style.display =\n",
              "        google.colab.kernel.accessAllowed ? 'block' : 'none';\n",
              "\n",
              "      async function convertToInteractive(key) {\n",
              "        const element = document.querySelector('#df-6848a3a2-cecb-4428-8f99-b565b186fd07');\n",
              "        const dataTable =\n",
              "          await google.colab.kernel.invokeFunction('convertToInteractive',\n",
              "                                                    [key], {});\n",
              "        if (!dataTable) return;\n",
              "\n",
              "        const docLinkHtml = 'Like what you see? Visit the ' +\n",
              "          '<a target=\"_blank\" href=https://colab.research.google.com/notebooks/data_table.ipynb>data table notebook</a>'\n",
              "          + ' to learn more about interactive tables.';\n",
              "        element.innerHTML = '';\n",
              "        dataTable['output_type'] = 'display_data';\n",
              "        await google.colab.output.renderOutput(dataTable, element);\n",
              "        const docLink = document.createElement('div');\n",
              "        docLink.innerHTML = docLinkHtml;\n",
              "        element.appendChild(docLink);\n",
              "      }\n",
              "    </script>\n",
              "  </div>\n",
              "\n",
              "\n",
              "<div id=\"df-92480b70-d4bf-4946-a5e1-8fd14b9d5117\">\n",
              "  <button class=\"colab-df-quickchart\" onclick=\"quickchart('df-92480b70-d4bf-4946-a5e1-8fd14b9d5117')\"\n",
              "            title=\"Suggest charts.\"\n",
              "            style=\"display:none;\">\n",
              "\n",
              "<svg xmlns=\"http://www.w3.org/2000/svg\" height=\"24px\"viewBox=\"0 0 24 24\"\n",
              "     width=\"24px\">\n",
              "    <g>\n",
              "        <path d=\"M19 3H5c-1.1 0-2 .9-2 2v14c0 1.1.9 2 2 2h14c1.1 0 2-.9 2-2V5c0-1.1-.9-2-2-2zM9 17H7v-7h2v7zm4 0h-2V7h2v10zm4 0h-2v-4h2v4z\"/>\n",
              "    </g>\n",
              "</svg>\n",
              "  </button>\n",
              "\n",
              "<style>\n",
              "  .colab-df-quickchart {\n",
              "      --bg-color: #E8F0FE;\n",
              "      --fill-color: #1967D2;\n",
              "      --hover-bg-color: #E2EBFA;\n",
              "      --hover-fill-color: #174EA6;\n",
              "      --disabled-fill-color: #AAA;\n",
              "      --disabled-bg-color: #DDD;\n",
              "  }\n",
              "\n",
              "  [theme=dark] .colab-df-quickchart {\n",
              "      --bg-color: #3B4455;\n",
              "      --fill-color: #D2E3FC;\n",
              "      --hover-bg-color: #434B5C;\n",
              "      --hover-fill-color: #FFFFFF;\n",
              "      --disabled-bg-color: #3B4455;\n",
              "      --disabled-fill-color: #666;\n",
              "  }\n",
              "\n",
              "  .colab-df-quickchart {\n",
              "    background-color: var(--bg-color);\n",
              "    border: none;\n",
              "    border-radius: 50%;\n",
              "    cursor: pointer;\n",
              "    display: none;\n",
              "    fill: var(--fill-color);\n",
              "    height: 32px;\n",
              "    padding: 0;\n",
              "    width: 32px;\n",
              "  }\n",
              "\n",
              "  .colab-df-quickchart:hover {\n",
              "    background-color: var(--hover-bg-color);\n",
              "    box-shadow: 0 1px 2px rgba(60, 64, 67, 0.3), 0 1px 3px 1px rgba(60, 64, 67, 0.15);\n",
              "    fill: var(--button-hover-fill-color);\n",
              "  }\n",
              "\n",
              "  .colab-df-quickchart-complete:disabled,\n",
              "  .colab-df-quickchart-complete:disabled:hover {\n",
              "    background-color: var(--disabled-bg-color);\n",
              "    fill: var(--disabled-fill-color);\n",
              "    box-shadow: none;\n",
              "  }\n",
              "\n",
              "  .colab-df-spinner {\n",
              "    border: 2px solid var(--fill-color);\n",
              "    border-color: transparent;\n",
              "    border-bottom-color: var(--fill-color);\n",
              "    animation:\n",
              "      spin 1s steps(1) infinite;\n",
              "  }\n",
              "\n",
              "  @keyframes spin {\n",
              "    0% {\n",
              "      border-color: transparent;\n",
              "      border-bottom-color: var(--fill-color);\n",
              "      border-left-color: var(--fill-color);\n",
              "    }\n",
              "    20% {\n",
              "      border-color: transparent;\n",
              "      border-left-color: var(--fill-color);\n",
              "      border-top-color: var(--fill-color);\n",
              "    }\n",
              "    30% {\n",
              "      border-color: transparent;\n",
              "      border-left-color: var(--fill-color);\n",
              "      border-top-color: var(--fill-color);\n",
              "      border-right-color: var(--fill-color);\n",
              "    }\n",
              "    40% {\n",
              "      border-color: transparent;\n",
              "      border-right-color: var(--fill-color);\n",
              "      border-top-color: var(--fill-color);\n",
              "    }\n",
              "    60% {\n",
              "      border-color: transparent;\n",
              "      border-right-color: var(--fill-color);\n",
              "    }\n",
              "    80% {\n",
              "      border-color: transparent;\n",
              "      border-right-color: var(--fill-color);\n",
              "      border-bottom-color: var(--fill-color);\n",
              "    }\n",
              "    90% {\n",
              "      border-color: transparent;\n",
              "      border-bottom-color: var(--fill-color);\n",
              "    }\n",
              "  }\n",
              "</style>\n",
              "\n",
              "  <script>\n",
              "    async function quickchart(key) {\n",
              "      const quickchartButtonEl =\n",
              "        document.querySelector('#' + key + ' button');\n",
              "      quickchartButtonEl.disabled = true;  // To prevent multiple clicks.\n",
              "      quickchartButtonEl.classList.add('colab-df-spinner');\n",
              "      try {\n",
              "        const charts = await google.colab.kernel.invokeFunction(\n",
              "            'suggestCharts', [key], {});\n",
              "      } catch (error) {\n",
              "        console.error('Error during call to suggestCharts:', error);\n",
              "      }\n",
              "      quickchartButtonEl.classList.remove('colab-df-spinner');\n",
              "      quickchartButtonEl.classList.add('colab-df-quickchart-complete');\n",
              "    }\n",
              "    (() => {\n",
              "      let quickchartButtonEl =\n",
              "        document.querySelector('#df-92480b70-d4bf-4946-a5e1-8fd14b9d5117 button');\n",
              "      quickchartButtonEl.style.display =\n",
              "        google.colab.kernel.accessAllowed ? 'block' : 'none';\n",
              "    })();\n",
              "  </script>\n",
              "</div>\n",
              "    </div>\n",
              "  </div>\n"
            ]
          },
          "metadata": {},
          "execution_count": 163
        }
      ],
      "source": [
        "node_features_df"
      ]
    },
    {
      "cell_type": "code",
      "execution_count": null,
      "metadata": {
        "id": "EaY4W3Fjv4HF"
      },
      "outputs": [],
      "source": [
        "edge_index_df = pd.read_csv('/content/drive/MyDrive/Proteins_for_MCODE.csv', usecols=['Node1', 'Node2'])  # Load edge index"
      ]
    },
    {
      "cell_type": "code",
      "execution_count": null,
      "metadata": {
        "colab": {
          "base_uri": "https://localhost:8080/"
        },
        "id": "p2hXMobrv4MH",
        "outputId": "cf493dae-71d0-4892-d107-3b41c31a0e9b"
      },
      "outputs": [
        {
          "output_type": "stream",
          "name": "stderr",
          "text": [
            "<ipython-input-165-d7f24230fd0d>:21: UserWarning: To copy construct from a tensor, it is recommended to use sourceTensor.clone().detach() or sourceTensor.clone().detach().requires_grad_(True), rather than torch.tensor(sourceTensor).\n",
            "  edge_labels=torch.tensor(edge_labels).float()\n"
          ]
        }
      ],
      "source": [
        "import torch\n",
        "import torch.nn as nn\n",
        "import torch.optim as optim\n",
        "from torch_geometric.data import Data, DataLoader\n",
        "from torch_geometric.nn import GCNConv\n",
        "import pandas as pd\n",
        "from sklearn.model_selection import train_test_split\n",
        "\n",
        "edge_features_df = pd.read_csv(\"/content/drive/MyDrive/edge_features.csv\",usecols=[\"MinimumDistance\"])\n",
        "edge_index_df = pd.read_csv('/content/drive/MyDrive/Proteins_for_MCODE.csv', usecols=['Node1', 'Node2'])\n",
        "\n",
        "node_features = torch.tensor(node_features_df.values, dtype=torch.float32)\n",
        "edge_features = torch.tensor(edge_features_df.values, dtype=torch.float32)\n",
        "\n",
        "edge_index = torch.tensor(edge_index_df.values, dtype=torch.long).t().contiguous()\n",
        "num_nodes = len(node_features)\n",
        "\n",
        "\n",
        "node_labels = torch.ones(edge_index.size(1))\n",
        "edge_labels = torch.ones(edge_index.size(1))\n",
        "edge_labels=torch.tensor(edge_labels).float()\n"
      ]
    },
    {
      "cell_type": "code",
      "execution_count": null,
      "metadata": {
        "id": "BeXIoxxSQsSd"
      },
      "outputs": [],
      "source": [
        "mask = torch.rand(edge_index.size(1))<0.5\n",
        "mask_1 = ~mask"
      ]
    },
    {
      "cell_type": "code",
      "execution_count": null,
      "metadata": {
        "id": "cH2PCVYYQsoX"
      },
      "outputs": [],
      "source": [
        "neg_edge_index = edge_index.clone()\n",
        "\n",
        "neg_edge_index[0, mask] = torch.randint(num_nodes, (mask.sum(), ))\n",
        "neg_edge_index[1, mask_1] = torch.randint(num_nodes, (mask_1.sum(), ))"
      ]
    },
    {
      "cell_type": "code",
      "execution_count": null,
      "metadata": {
        "colab": {
          "base_uri": "https://localhost:8080/"
        },
        "id": "J4Dh1aY3KPL-",
        "outputId": "b2551f76-9846-476d-8a31-2186c008a1c3"
      },
      "outputs": [
        {
          "output_type": "execute_result",
          "data": {
            "text/plain": [
              "tensor([[   1,    1,    1,  ..., 3031, 3031, 3069],\n",
              "        [  56,   48,  107,  ..., 3032, 3033, 3070]])"
            ]
          },
          "metadata": {},
          "execution_count": 168
        }
      ],
      "source": [
        "edge_index"
      ]
    },
    {
      "cell_type": "code",
      "execution_count": null,
      "metadata": {
        "colab": {
          "base_uri": "https://localhost:8080/"
        },
        "id": "O3btM6flKR1S",
        "outputId": "664ab29a-1c2e-4609-d054-16a2b700f553"
      },
      "outputs": [
        {
          "output_type": "execute_result",
          "data": {
            "text/plain": [
              "tensor([[   1,    1, 1327,  ..., 2868, 2730, 2812],\n",
              "        [  89, 1389,  107,  ..., 3032, 3033, 3070]])"
            ]
          },
          "metadata": {},
          "execution_count": 169
        }
      ],
      "source": [
        "neg_edge_index"
      ]
    },
    {
      "cell_type": "code",
      "execution_count": null,
      "metadata": {
        "id": "49j5Y2nfKXsK"
      },
      "outputs": [],
      "source": [
        "neg_node_labels = torch.zeros(edge_index.size(1))"
      ]
    },
    {
      "cell_type": "code",
      "execution_count": null,
      "metadata": {
        "id": "-oaqyxbFLFfg"
      },
      "outputs": [],
      "source": [
        "concatenated_node_labels = torch.cat((node_labels, neg_node_labels), dim=0)"
      ]
    },
    {
      "cell_type": "code",
      "execution_count": null,
      "metadata": {
        "id": "IWLA7p5DT2Al"
      },
      "outputs": [],
      "source": [
        "neg_edge_labels = torch.zeros(edge_index.size(1))"
      ]
    },
    {
      "cell_type": "code",
      "execution_count": null,
      "metadata": {
        "id": "MjJf_PmsT7-D"
      },
      "outputs": [],
      "source": [
        "concatenated_edge_labels = torch.cat((edge_labels, neg_edge_labels), dim=0)"
      ]
    },
    {
      "cell_type": "code",
      "execution_count": null,
      "metadata": {
        "colab": {
          "base_uri": "https://localhost:8080/"
        },
        "id": "QS03vVWHLhOM",
        "outputId": "d9650d39-6f06-4259-a22b-1c1d88f7d9f6"
      },
      "outputs": [
        {
          "output_type": "execute_result",
          "data": {
            "text/plain": [
              "1923"
            ]
          },
          "metadata": {},
          "execution_count": 174
        }
      ],
      "source": [
        "len(edge_features)"
      ]
    },
    {
      "cell_type": "code",
      "execution_count": null,
      "metadata": {
        "id": "tEJg8zsaL12O"
      },
      "outputs": [],
      "source": [
        "concatenated_edge_features = torch.cat((edge_features, edge_features.flip(0)), dim=0)"
      ]
    },
    {
      "cell_type": "code",
      "execution_count": null,
      "metadata": {
        "id": "2_EI0FUvMx4t"
      },
      "outputs": [],
      "source": [
        "concatenated_edge_index = torch.cat((edge_index, neg_edge_index), dim=1)"
      ]
    },
    {
      "cell_type": "code",
      "execution_count": null,
      "metadata": {
        "colab": {
          "base_uri": "https://localhost:8080/"
        },
        "id": "QQDlAvkzNH1y",
        "outputId": "ed663249-f54e-4c1b-922f-c104be52dd41"
      },
      "outputs": [
        {
          "output_type": "execute_result",
          "data": {
            "text/plain": [
              "2"
            ]
          },
          "metadata": {},
          "execution_count": 177
        }
      ],
      "source": [
        "len(concatenated_edge_index)"
      ]
    },
    {
      "cell_type": "code",
      "execution_count": null,
      "metadata": {
        "colab": {
          "base_uri": "https://localhost:8080/"
        },
        "id": "NCA8vcNdL2QF",
        "outputId": "3c1ab156-436e-4e36-9826-ada5e4ef8f5f"
      },
      "outputs": [
        {
          "output_type": "execute_result",
          "data": {
            "text/plain": [
              "3846"
            ]
          },
          "metadata": {},
          "execution_count": 178
        }
      ],
      "source": [
        "len(concatenated_edge_features)"
      ]
    },
    {
      "cell_type": "code",
      "execution_count": null,
      "metadata": {
        "colab": {
          "base_uri": "https://localhost:8080/"
        },
        "id": "iPEwmZeWNSAk",
        "outputId": "92a8ead0-61e6-4b38-803b-f24021f8197e"
      },
      "outputs": [
        {
          "output_type": "execute_result",
          "data": {
            "text/plain": [
              "3846"
            ]
          },
          "metadata": {},
          "execution_count": 179
        }
      ],
      "source": [
        "len(concatenated_node_labels)"
      ]
    },
    {
      "cell_type": "code",
      "execution_count": null,
      "metadata": {
        "colab": {
          "base_uri": "https://localhost:8080/"
        },
        "id": "0dkFT5YJKGPS",
        "outputId": "b1538421-1124-48a3-ee46-3d21e2d68717"
      },
      "outputs": [
        {
          "output_type": "stream",
          "name": "stdout",
          "text": [
            "tensor([1., 1., 1.,  ..., 0., 0., 0.])\n"
          ]
        }
      ],
      "source": [
        "data = Data(\n",
        "    x=node_features,\n",
        "    edge_index=concatenated_edge_index,\n",
        "    y=concatenated_node_labels,\n",
        "    edge_attr=concatenated_edge_features,\n",
        "    edge_labels=concatenated_edge_labels\n",
        ")\n",
        "\n",
        "print(data.edge_labels)"
      ]
    },
    {
      "cell_type": "code",
      "execution_count": null,
      "metadata": {
        "colab": {
          "base_uri": "https://localhost:8080/"
        },
        "id": "S7dJqvsF2YY0",
        "outputId": "3562da07-1384-42ba-95ff-89e8c2e07242"
      },
      "outputs": [
        {
          "output_type": "stream",
          "name": "stdout",
          "text": [
            "Data(x=[3084, 73], edge_index=[2, 3846], edge_attr=[3846, 1], y=[3846], edge_labels=[3846])\n"
          ]
        }
      ],
      "source": [
        "print(data)"
      ]
    },
    {
      "cell_type": "code",
      "execution_count": null,
      "metadata": {
        "colab": {
          "base_uri": "https://localhost:8080/"
        },
        "id": "99aC9PmWv4O8",
        "outputId": "18a2a670-3002-4c4e-f73e-402c26777779"
      },
      "outputs": [
        {
          "output_type": "stream",
          "name": "stdout",
          "text": [
            "3846\n",
            "[0, 1, 2, 3, 4, 5, 6, 7, 8, 9, 10, 11, 12, 13, 14, 15, 16, 17, 18, 19, 20, 21, 22, 23, 24, 25, 26, 27, 28, 29, 30, 31, 32, 33, 34, 35, 36, 37, 38, 39, 40, 41, 42, 43, 44, 45, 46, 47, 48, 49, 50, 51, 52, 53, 54, 55, 56, 57, 58, 59, 60, 61, 62, 63, 64, 65, 66, 67, 68, 69, 70, 71, 72, 73, 74, 75, 76, 77, 78, 79, 80, 81, 82, 83, 84, 85, 86, 87, 88, 89, 90, 91, 92, 93, 94, 95, 96, 97, 98, 99, 100, 101, 102, 103, 104, 105, 106, 107, 108, 109, 110, 111, 112, 113, 114, 115, 116, 117, 118, 119, 120, 121, 122, 123, 124, 125, 126, 127, 128, 129, 130, 131, 132, 133, 134, 135, 136, 137, 138, 139, 140, 141, 142, 143, 144, 145, 146, 147, 148, 149, 150, 151, 152, 153, 154, 155, 156, 157, 158, 159, 160, 161, 162, 163, 164, 165, 166, 167, 168, 169, 170, 171, 172, 173, 174, 175, 176, 177, 178, 179, 180, 181, 182, 183, 184, 185, 186, 187, 188, 189, 190, 191, 192, 193, 194, 195, 196, 197, 198, 199, 200, 201, 202, 203, 204, 205, 206, 207, 208, 209, 210, 211, 212, 213, 214, 215, 216, 217, 218, 219, 220, 221, 222, 223, 224, 225, 226, 227, 228, 229, 230, 231, 232, 233, 234, 235, 236, 237, 238, 239, 240, 241, 242, 243, 244, 245, 246, 247, 248, 249, 250, 251, 252, 253, 254, 255, 256, 257, 258, 259, 260, 261, 262, 263, 264, 265, 266, 267, 268, 269, 270, 271, 272, 273, 274, 275, 276, 277, 278, 279, 280, 281, 282, 283, 284, 285, 286, 287, 288, 289, 290, 291, 292, 293, 294, 295, 296, 297, 298, 299, 300, 301, 302, 303, 304, 305, 306, 307, 308, 309, 310, 311, 312, 313, 314, 315, 316, 317, 318, 319, 320, 321, 322, 323, 324, 325, 326, 327, 328, 329, 330, 331, 332, 333, 334, 335, 336, 337, 338, 339, 340, 341, 342, 343, 344, 345, 346, 347, 348, 349, 350, 351, 352, 353, 354, 355, 356, 357, 358, 359, 360, 361, 362, 363, 364, 365, 366, 367, 368, 369, 370, 371, 372, 373, 374, 375, 376, 377, 378, 379, 380, 381, 382, 383, 384, 385, 386, 387, 388, 389, 390, 391, 392, 393, 394, 395, 396, 397, 398, 399, 400, 401, 402, 403, 404, 405, 406, 407, 408, 409, 410, 411, 412, 413, 414, 415, 416, 417, 418, 419, 420, 421, 422, 423, 424, 425, 426, 427, 428, 429, 430, 431, 432, 433, 434, 435, 436, 437, 438, 439, 440, 441, 442, 443, 444, 445, 446, 447, 448, 449, 450, 451, 452, 453, 454, 455, 456, 457, 458, 459, 460, 461, 462, 463, 464, 465, 466, 467, 468, 469, 470, 471, 472, 473, 474, 475, 476, 477, 478, 479, 480, 481, 482, 483, 484, 485, 486, 487, 488, 489, 490, 491, 492, 493, 494, 495, 496, 497, 498, 499, 500, 501, 502, 503, 504, 505, 506, 507, 508, 509, 510, 511, 512, 513, 514, 515, 516, 517, 518, 519, 520, 521, 522, 523, 524, 525, 526, 527, 528, 529, 530, 531, 532, 533, 534, 535, 536, 537, 538, 539, 540, 541, 542, 543, 544, 545, 546, 547, 548, 549, 550, 551, 552, 553, 554, 555, 556, 557, 558, 559, 560, 561, 562, 563, 564, 565, 566, 567, 568, 569, 570, 571, 572, 573, 574, 575, 576, 577, 578, 579, 580, 581, 582, 583, 584, 585, 586, 587, 588, 589, 590, 591, 592, 593, 594, 595, 596, 597, 598, 599, 600, 601, 602, 603, 604, 605, 606, 607, 608, 609, 610, 611, 612, 613, 614, 615, 616, 617, 618, 619, 620, 621, 622, 623, 624, 625, 626, 627, 628, 629, 630, 631, 632, 633, 634, 635, 636, 637, 638, 639, 640, 641, 642, 643, 644, 645, 646, 647, 648, 649, 650, 651, 652, 653, 654, 655, 656, 657, 658, 659, 660, 661, 662, 663, 664, 665, 666, 667, 668, 669, 670, 671, 672, 673, 674, 675, 676, 677, 678, 679, 680, 681, 682, 683, 684, 685, 686, 687, 688, 689, 690, 691, 692, 693, 694, 695, 696, 697, 698, 699, 700, 701, 702, 703, 704, 705, 706, 707, 708, 709, 710, 711, 712, 713, 714, 715, 716, 717, 718, 719, 720, 721, 722, 723, 724, 725, 726, 727, 728, 729, 730, 731, 732, 733, 734, 735, 736, 737, 738, 739, 740, 741, 742, 743, 744, 745, 746, 747, 748, 749, 750, 751, 752, 753, 754, 755, 756, 757, 758, 759, 760, 761, 762, 763, 764, 765, 766, 767, 768, 769, 770, 771, 772, 773, 774, 775, 776, 777, 778, 779, 780, 781, 782, 783, 784, 785, 786, 787, 788, 789, 790, 791, 792, 793, 794, 795, 796, 797, 798, 799, 800, 801, 802, 803, 804, 805, 806, 807, 808, 809, 810, 811, 812, 813, 814, 815, 816, 817, 818, 819, 820, 821, 822, 823, 824, 825, 826, 827, 828, 829, 830, 831, 832, 833, 834, 835, 836, 837, 838, 839, 840, 841, 842, 843, 844, 845, 846, 847, 848, 849, 850, 851, 852, 853, 854, 855, 856, 857, 858, 859, 860, 861, 862, 863, 864, 865, 866, 867, 868, 869, 870, 871, 872, 873, 874, 875, 876, 877, 878, 879, 880, 881, 882, 883, 884, 885, 886, 887, 888, 889, 890, 891, 892, 893, 894, 895, 896, 897, 898, 899, 900, 901, 902, 903, 904, 905, 906, 907, 908, 909, 910, 911, 912, 913, 914, 915, 916, 917, 918, 919, 920, 921, 922, 923, 924, 925, 926, 927, 928, 929, 930, 931, 932, 933, 934, 935, 936, 937, 938, 939, 940, 941, 942, 943, 944, 945, 946, 947, 948, 949, 950, 951, 952, 953, 954, 955, 956, 957, 958, 959, 960, 961, 962, 963, 964, 965, 966, 967, 968, 969, 970, 971, 972, 973, 974, 975, 976, 977, 978, 979, 980, 981, 982, 983, 984, 985, 986, 987, 988, 989, 990, 991, 992, 993, 994, 995, 996, 997, 998, 999, 1000, 1001, 1002, 1003, 1004, 1005, 1006, 1007, 1008, 1009, 1010, 1011, 1012, 1013, 1014, 1015, 1016, 1017, 1018, 1019, 1020, 1021, 1022, 1023, 1024, 1025, 1026, 1027, 1028, 1029, 1030, 1031, 1032, 1033, 1034, 1035, 1036, 1037, 1038, 1039, 1040, 1041, 1042, 1043, 1044, 1045, 1046, 1047, 1048, 1049, 1050, 1051, 1052, 1053, 1054, 1055, 1056, 1057, 1058, 1059, 1060, 1061, 1062, 1063, 1064, 1065, 1066, 1067, 1068, 1069, 1070, 1071, 1072, 1073, 1074, 1075, 1076, 1077, 1078, 1079, 1080, 1081, 1082, 1083, 1084, 1085, 1086, 1087, 1088, 1089, 1090, 1091, 1092, 1093, 1094, 1095, 1096, 1097, 1098, 1099, 1100, 1101, 1102, 1103, 1104, 1105, 1106, 1107, 1108, 1109, 1110, 1111, 1112, 1113, 1114, 1115, 1116, 1117, 1118, 1119, 1120, 1121, 1122, 1123, 1124, 1125, 1126, 1127, 1128, 1129, 1130, 1131, 1132, 1133, 1134, 1135, 1136, 1137, 1138, 1139, 1140, 1141, 1142, 1143, 1144, 1145, 1146, 1147, 1148, 1149, 1150, 1151, 1152, 1153, 1154, 1155, 1156, 1157, 1158, 1159, 1160, 1161, 1162, 1163, 1164, 1165, 1166, 1167, 1168, 1169, 1170, 1171, 1172, 1173, 1174, 1175, 1176, 1177, 1178, 1179, 1180, 1181, 1182, 1183, 1184, 1185, 1186, 1187, 1188, 1189, 1190, 1191, 1192, 1193, 1194, 1195, 1196, 1197, 1198, 1199, 1200, 1201, 1202, 1203, 1204, 1205, 1206, 1207, 1208, 1209, 1210, 1211, 1212, 1213, 1214, 1215, 1216, 1217, 1218, 1219, 1220, 1221, 1222, 1223, 1224, 1225, 1226, 1227, 1228, 1229, 1230, 1231, 1232, 1233, 1234, 1235, 1236, 1237, 1238, 1239, 1240, 1241, 1242, 1243, 1244, 1245, 1246, 1247, 1248, 1249, 1250, 1251, 1252, 1253, 1254, 1255, 1256, 1257, 1258, 1259, 1260, 1261, 1262, 1263, 1264, 1265, 1266, 1267, 1268, 1269, 1270, 1271, 1272, 1273, 1274, 1275, 1276, 1277, 1278, 1279, 1280, 1281, 1282, 1283, 1284, 1285, 1286, 1287, 1288, 1289, 1290, 1291, 1292, 1293, 1294, 1295, 1296, 1297, 1298, 1299, 1300, 1301, 1302, 1303, 1304, 1305, 1306, 1307, 1308, 1309, 1310, 1311, 1312, 1313, 1314, 1315, 1316, 1317, 1318, 1319, 1320, 1321, 1322, 1323, 1324, 1325, 1326, 1327, 1328, 1329, 1330, 1331, 1332, 1333, 1334, 1335, 1336, 1337, 1338, 1339, 1340, 1341, 1342, 1343, 1344, 1345, 1346, 1347, 1348, 1349, 1350, 1351, 1352, 1353, 1354, 1355, 1356, 1357, 1358, 1359, 1360, 1361, 1362, 1363, 1364, 1365, 1366, 1367, 1368, 1369, 1370, 1371, 1372, 1373, 1374, 1375, 1376, 1377, 1378, 1379, 1380, 1381, 1382, 1383, 1384, 1385, 1386, 1387, 1388, 1389, 1390, 1391, 1392, 1393, 1394, 1395, 1396, 1397, 1398, 1399, 1400, 1401, 1402, 1403, 1404, 1405, 1406, 1407, 1408, 1409, 1410, 1411, 1412, 1413, 1414, 1415, 1416, 1417, 1418, 1419, 1420, 1421, 1422, 1423, 1424, 1425, 1426, 1427, 1428, 1429, 1430, 1431, 1432, 1433, 1434, 1435, 1436, 1437, 1438, 1439, 1440, 1441, 1442, 1443, 1444, 1445, 1446, 1447, 1448, 1449, 1450, 1451, 1452, 1453, 1454, 1455, 1456, 1457, 1458, 1459, 1460, 1461, 1462, 1463, 1464, 1465, 1466, 1467, 1468, 1469, 1470, 1471, 1472, 1473, 1474, 1475, 1476, 1477, 1478, 1479, 1480, 1481, 1482, 1483, 1484, 1485, 1486, 1487, 1488, 1489, 1490, 1491, 1492, 1493, 1494, 1495, 1496, 1497, 1498, 1499, 1500, 1501, 1502, 1503, 1504, 1505, 1506, 1507, 1508, 1509, 1510, 1511, 1512, 1513, 1514, 1515, 1516, 1517, 1518, 1519, 1520, 1521, 1522, 1523, 1524, 1525, 1526, 1527, 1528, 1529, 1530, 1531, 1532, 1533, 1534, 1535, 1536, 1537, 1538, 1539, 1540, 1541, 1542, 1543, 1544, 1545, 1546, 1547, 1548, 1549, 1550, 1551, 1552, 1553, 1554, 1555, 1556, 1557, 1558, 1559, 1560, 1561, 1562, 1563, 1564, 1565, 1566, 1567, 1568, 1569, 1570, 1571, 1572, 1573, 1574, 1575, 1576, 1577, 1578, 1579, 1580, 1581, 1582, 1583, 1584, 1585, 1586, 1587, 1588, 1589, 1590, 1591, 1592, 1593, 1594, 1595, 1596, 1597, 1598, 1599, 1600, 1601, 1602, 1603, 1604, 1605, 1606, 1607, 1608, 1609, 1610, 1611, 1612, 1613, 1614, 1615, 1616, 1617, 1618, 1619, 1620, 1621, 1622, 1623, 1624, 1625, 1626, 1627, 1628, 1629, 1630, 1631, 1632, 1633, 1634, 1635, 1636, 1637, 1638, 1639, 1640, 1641, 1642, 1643, 1644, 1645, 1646, 1647, 1648, 1649, 1650, 1651, 1652, 1653, 1654, 1655, 1656, 1657, 1658, 1659, 1660, 1661, 1662, 1663, 1664, 1665, 1666, 1667, 1668, 1669, 1670, 1671, 1672, 1673, 1674, 1675, 1676, 1677, 1678, 1679, 1680, 1681, 1682, 1683, 1684, 1685, 1686, 1687, 1688, 1689, 1690, 1691, 1692, 1693, 1694, 1695, 1696, 1697, 1698, 1699, 1700, 1701, 1702, 1703, 1704, 1705, 1706, 1707, 1708, 1709, 1710, 1711, 1712, 1713, 1714, 1715, 1716, 1717, 1718, 1719, 1720, 1721, 1722, 1723, 1724, 1725, 1726, 1727, 1728, 1729, 1730, 1731, 1732, 1733, 1734, 1735, 1736, 1737, 1738, 1739, 1740, 1741, 1742, 1743, 1744, 1745, 1746, 1747, 1748, 1749, 1750, 1751, 1752, 1753, 1754, 1755, 1756, 1757, 1758, 1759, 1760, 1761, 1762, 1763, 1764, 1765, 1766, 1767, 1768, 1769, 1770, 1771, 1772, 1773, 1774, 1775, 1776, 1777, 1778, 1779, 1780, 1781, 1782, 1783, 1784, 1785, 1786, 1787, 1788, 1789, 1790, 1791, 1792, 1793, 1794, 1795, 1796, 1797, 1798, 1799, 1800, 1801, 1802, 1803, 1804, 1805, 1806, 1807, 1808, 1809, 1810, 1811, 1812, 1813, 1814, 1815, 1816, 1817, 1818, 1819, 1820, 1821, 1822, 1823, 1824, 1825, 1826, 1827, 1828, 1829, 1830, 1831, 1832, 1833, 1834, 1835, 1836, 1837, 1838, 1839, 1840, 1841, 1842, 1843, 1844, 1845, 1846, 1847, 1848, 1849, 1850, 1851, 1852, 1853, 1854, 1855, 1856, 1857, 1858, 1859, 1860, 1861, 1862, 1863, 1864, 1865, 1866, 1867, 1868, 1869, 1870, 1871, 1872, 1873, 1874, 1875, 1876, 1877, 1878, 1879, 1880, 1881, 1882, 1883, 1884, 1885, 1886, 1887, 1888, 1889, 1890, 1891, 1892, 1893, 1894, 1895, 1896, 1897, 1898, 1899, 1900, 1901, 1902, 1903, 1904, 1905, 1906, 1907, 1908, 1909, 1910, 1911, 1912, 1913, 1914, 1915, 1916, 1917, 1918, 1919, 1920, 1921, 1922, 1923, 1924, 1925, 1926, 1927, 1928, 1929, 1930, 1931, 1932, 1933, 1934, 1935, 1936, 1937, 1938, 1939, 1940, 1941, 1942, 1943, 1944, 1945, 1946, 1947, 1948, 1949, 1950, 1951, 1952, 1953, 1954, 1955, 1956, 1957, 1958, 1959, 1960, 1961, 1962, 1963, 1964, 1965, 1966, 1967, 1968, 1969, 1970, 1971, 1972, 1973, 1974, 1975, 1976, 1977, 1978, 1979, 1980, 1981, 1982, 1983, 1984, 1985, 1986, 1987, 1988, 1989, 1990, 1991, 1992, 1993, 1994, 1995, 1996, 1997, 1998, 1999, 2000, 2001, 2002, 2003, 2004, 2005, 2006, 2007, 2008, 2009, 2010, 2011, 2012, 2013, 2014, 2015, 2016, 2017, 2018, 2019, 2020, 2021, 2022, 2023, 2024, 2025, 2026, 2027, 2028, 2029, 2030, 2031, 2032, 2033, 2034, 2035, 2036, 2037, 2038, 2039, 2040, 2041, 2042, 2043, 2044, 2045, 2046, 2047, 2048, 2049, 2050, 2051, 2052, 2053, 2054, 2055, 2056, 2057, 2058, 2059, 2060, 2061, 2062, 2063, 2064, 2065, 2066, 2067, 2068, 2069, 2070, 2071, 2072, 2073, 2074, 2075, 2076, 2077, 2078, 2079, 2080, 2081, 2082, 2083, 2084, 2085, 2086, 2087, 2088, 2089, 2090, 2091, 2092, 2093, 2094, 2095, 2096, 2097, 2098, 2099, 2100, 2101, 2102, 2103, 2104, 2105, 2106, 2107, 2108, 2109, 2110, 2111, 2112, 2113, 2114, 2115, 2116, 2117, 2118, 2119, 2120, 2121, 2122, 2123, 2124, 2125, 2126, 2127, 2128, 2129, 2130, 2131, 2132, 2133, 2134, 2135, 2136, 2137, 2138, 2139, 2140, 2141, 2142, 2143, 2144, 2145, 2146, 2147, 2148, 2149, 2150, 2151, 2152, 2153, 2154, 2155, 2156, 2157, 2158, 2159, 2160, 2161, 2162, 2163, 2164, 2165, 2166, 2167, 2168, 2169, 2170, 2171, 2172, 2173, 2174, 2175, 2176, 2177, 2178, 2179, 2180, 2181, 2182, 2183, 2184, 2185, 2186, 2187, 2188, 2189, 2190, 2191, 2192, 2193, 2194, 2195, 2196, 2197, 2198, 2199, 2200, 2201, 2202, 2203, 2204, 2205, 2206, 2207, 2208, 2209, 2210, 2211, 2212, 2213, 2214, 2215, 2216, 2217, 2218, 2219, 2220, 2221, 2222, 2223, 2224, 2225, 2226, 2227, 2228, 2229, 2230, 2231, 2232, 2233, 2234, 2235, 2236, 2237, 2238, 2239, 2240, 2241, 2242, 2243, 2244, 2245, 2246, 2247, 2248, 2249, 2250, 2251, 2252, 2253, 2254, 2255, 2256, 2257, 2258, 2259, 2260, 2261, 2262, 2263, 2264, 2265, 2266, 2267, 2268, 2269, 2270, 2271, 2272, 2273, 2274, 2275, 2276, 2277, 2278, 2279, 2280, 2281, 2282, 2283, 2284, 2285, 2286, 2287, 2288, 2289, 2290, 2291, 2292, 2293, 2294, 2295, 2296, 2297, 2298, 2299, 2300, 2301, 2302, 2303, 2304, 2305, 2306, 2307, 2308, 2309, 2310, 2311, 2312, 2313, 2314, 2315, 2316, 2317, 2318, 2319, 2320, 2321, 2322, 2323, 2324, 2325, 2326, 2327, 2328, 2329, 2330, 2331, 2332, 2333, 2334, 2335, 2336, 2337, 2338, 2339, 2340, 2341, 2342, 2343, 2344, 2345, 2346, 2347, 2348, 2349, 2350, 2351, 2352, 2353, 2354, 2355, 2356, 2357, 2358, 2359, 2360, 2361, 2362, 2363, 2364, 2365, 2366, 2367, 2368, 2369, 2370, 2371, 2372, 2373, 2374, 2375, 2376, 2377, 2378, 2379, 2380, 2381, 2382, 2383, 2384, 2385, 2386, 2387, 2388, 2389, 2390, 2391, 2392, 2393, 2394, 2395, 2396, 2397, 2398, 2399, 2400, 2401, 2402, 2403, 2404, 2405, 2406, 2407, 2408, 2409, 2410, 2411, 2412, 2413, 2414, 2415, 2416, 2417, 2418, 2419, 2420, 2421, 2422, 2423, 2424, 2425, 2426, 2427, 2428, 2429, 2430, 2431, 2432, 2433, 2434, 2435, 2436, 2437, 2438, 2439, 2440, 2441, 2442, 2443, 2444, 2445, 2446, 2447, 2448, 2449, 2450, 2451, 2452, 2453, 2454, 2455, 2456, 2457, 2458, 2459, 2460, 2461, 2462, 2463, 2464, 2465, 2466, 2467, 2468, 2469, 2470, 2471, 2472, 2473, 2474, 2475, 2476, 2477, 2478, 2479, 2480, 2481, 2482, 2483, 2484, 2485, 2486, 2487, 2488, 2489, 2490, 2491, 2492, 2493, 2494, 2495, 2496, 2497, 2498, 2499, 2500, 2501, 2502, 2503, 2504, 2505, 2506, 2507, 2508, 2509, 2510, 2511, 2512, 2513, 2514, 2515, 2516, 2517, 2518, 2519, 2520, 2521, 2522, 2523, 2524, 2525, 2526, 2527, 2528, 2529, 2530, 2531, 2532, 2533, 2534, 2535, 2536, 2537, 2538, 2539, 2540, 2541, 2542, 2543, 2544, 2545, 2546, 2547, 2548, 2549, 2550, 2551, 2552, 2553, 2554, 2555, 2556, 2557, 2558, 2559, 2560, 2561, 2562, 2563, 2564, 2565, 2566, 2567, 2568, 2569, 2570, 2571, 2572, 2573, 2574, 2575, 2576, 2577, 2578, 2579, 2580, 2581, 2582, 2583, 2584, 2585, 2586, 2587, 2588, 2589, 2590, 2591, 2592, 2593, 2594, 2595, 2596, 2597, 2598, 2599, 2600, 2601, 2602, 2603, 2604, 2605, 2606, 2607, 2608, 2609, 2610, 2611, 2612, 2613, 2614, 2615, 2616, 2617, 2618, 2619, 2620, 2621, 2622, 2623, 2624, 2625, 2626, 2627, 2628, 2629, 2630, 2631, 2632, 2633, 2634, 2635, 2636, 2637, 2638, 2639, 2640, 2641, 2642, 2643, 2644, 2645, 2646, 2647, 2648, 2649, 2650, 2651, 2652, 2653, 2654, 2655, 2656, 2657, 2658, 2659, 2660, 2661, 2662, 2663, 2664, 2665, 2666, 2667, 2668, 2669, 2670, 2671, 2672, 2673, 2674, 2675, 2676, 2677, 2678, 2679, 2680, 2681, 2682, 2683, 2684, 2685, 2686, 2687, 2688, 2689, 2690, 2691, 2692, 2693, 2694, 2695, 2696, 2697, 2698, 2699, 2700, 2701, 2702, 2703, 2704, 2705, 2706, 2707, 2708, 2709, 2710, 2711, 2712, 2713, 2714, 2715, 2716, 2717, 2718, 2719, 2720, 2721, 2722, 2723, 2724, 2725, 2726, 2727, 2728, 2729, 2730, 2731, 2732, 2733, 2734, 2735, 2736, 2737, 2738, 2739, 2740, 2741, 2742, 2743, 2744, 2745, 2746, 2747, 2748, 2749, 2750, 2751, 2752, 2753, 2754, 2755, 2756, 2757, 2758, 2759, 2760, 2761, 2762, 2763, 2764, 2765, 2766, 2767, 2768, 2769, 2770, 2771, 2772, 2773, 2774, 2775, 2776, 2777, 2778, 2779, 2780, 2781, 2782, 2783, 2784, 2785, 2786, 2787, 2788, 2789, 2790, 2791, 2792, 2793, 2794, 2795, 2796, 2797, 2798, 2799, 2800, 2801, 2802, 2803, 2804, 2805, 2806, 2807, 2808, 2809, 2810, 2811, 2812, 2813, 2814, 2815, 2816, 2817, 2818, 2819, 2820, 2821, 2822, 2823, 2824, 2825, 2826, 2827, 2828, 2829, 2830, 2831, 2832, 2833, 2834, 2835, 2836, 2837, 2838, 2839, 2840, 2841, 2842, 2843, 2844, 2845, 2846, 2847, 2848, 2849, 2850, 2851, 2852, 2853, 2854, 2855, 2856, 2857, 2858, 2859, 2860, 2861, 2862, 2863, 2864, 2865, 2866, 2867, 2868, 2869, 2870, 2871, 2872, 2873, 2874, 2875, 2876, 2877, 2878, 2879, 2880, 2881, 2882, 2883, 2884, 2885, 2886, 2887, 2888, 2889, 2890, 2891, 2892, 2893, 2894, 2895, 2896, 2897, 2898, 2899, 2900, 2901, 2902, 2903, 2904, 2905, 2906, 2907, 2908, 2909, 2910, 2911, 2912, 2913, 2914, 2915, 2916, 2917, 2918, 2919, 2920, 2921, 2922, 2923, 2924, 2925, 2926, 2927, 2928, 2929, 2930, 2931, 2932, 2933, 2934, 2935, 2936, 2937, 2938, 2939, 2940, 2941, 2942, 2943, 2944, 2945, 2946, 2947, 2948, 2949, 2950, 2951, 2952, 2953, 2954, 2955, 2956, 2957, 2958, 2959, 2960, 2961, 2962, 2963, 2964, 2965, 2966, 2967, 2968, 2969, 2970, 2971, 2972, 2973, 2974, 2975, 2976, 2977, 2978, 2979, 2980, 2981, 2982, 2983, 2984, 2985, 2986, 2987, 2988, 2989, 2990, 2991, 2992, 2993, 2994, 2995, 2996, 2997, 2998, 2999, 3000, 3001, 3002, 3003, 3004, 3005, 3006, 3007, 3008, 3009, 3010, 3011, 3012, 3013, 3014, 3015, 3016, 3017, 3018, 3019, 3020, 3021, 3022, 3023, 3024, 3025, 3026, 3027, 3028, 3029, 3030, 3031, 3032, 3033, 3034, 3035, 3036, 3037, 3038, 3039, 3040, 3041, 3042, 3043, 3044, 3045, 3046, 3047, 3048, 3049, 3050, 3051, 3052, 3053, 3054, 3055, 3056, 3057, 3058, 3059, 3060, 3061, 3062, 3063, 3064, 3065, 3066, 3067, 3068, 3069, 3070, 3071, 3072, 3073, 3074, 3075, 3076, 3077, 3078, 3079, 3080, 3081, 3082, 3083, 3084, 3085, 3086, 3087, 3088, 3089, 3090, 3091, 3092, 3093, 3094, 3095, 3096, 3097, 3098, 3099, 3100, 3101, 3102, 3103, 3104, 3105, 3106, 3107, 3108, 3109, 3110, 3111, 3112, 3113, 3114, 3115, 3116, 3117, 3118, 3119, 3120, 3121, 3122, 3123, 3124, 3125, 3126, 3127, 3128, 3129, 3130, 3131, 3132, 3133, 3134, 3135, 3136, 3137, 3138, 3139, 3140, 3141, 3142, 3143, 3144, 3145, 3146, 3147, 3148, 3149, 3150, 3151, 3152, 3153, 3154, 3155, 3156, 3157, 3158, 3159, 3160, 3161, 3162, 3163, 3164, 3165, 3166, 3167, 3168, 3169, 3170, 3171, 3172, 3173, 3174, 3175, 3176, 3177, 3178, 3179, 3180, 3181, 3182, 3183, 3184, 3185, 3186, 3187, 3188, 3189, 3190, 3191, 3192, 3193, 3194, 3195, 3196, 3197, 3198, 3199, 3200, 3201, 3202, 3203, 3204, 3205, 3206, 3207, 3208, 3209, 3210, 3211, 3212, 3213, 3214, 3215, 3216, 3217, 3218, 3219, 3220, 3221, 3222, 3223, 3224, 3225, 3226, 3227, 3228, 3229, 3230, 3231, 3232, 3233, 3234, 3235, 3236, 3237, 3238, 3239, 3240, 3241, 3242, 3243, 3244, 3245, 3246, 3247, 3248, 3249, 3250, 3251, 3252, 3253, 3254, 3255, 3256, 3257, 3258, 3259, 3260, 3261, 3262, 3263, 3264, 3265, 3266, 3267, 3268, 3269, 3270, 3271, 3272, 3273, 3274, 3275, 3276, 3277, 3278, 3279, 3280, 3281, 3282, 3283, 3284, 3285, 3286, 3287, 3288, 3289, 3290, 3291, 3292, 3293, 3294, 3295, 3296, 3297, 3298, 3299, 3300, 3301, 3302, 3303, 3304, 3305, 3306, 3307, 3308, 3309, 3310, 3311, 3312, 3313, 3314, 3315, 3316, 3317, 3318, 3319, 3320, 3321, 3322, 3323, 3324, 3325, 3326, 3327, 3328, 3329, 3330, 3331, 3332, 3333, 3334, 3335, 3336, 3337, 3338, 3339, 3340, 3341, 3342, 3343, 3344, 3345, 3346, 3347, 3348, 3349, 3350, 3351, 3352, 3353, 3354, 3355, 3356, 3357, 3358, 3359, 3360, 3361, 3362, 3363, 3364, 3365, 3366, 3367, 3368, 3369, 3370, 3371, 3372, 3373, 3374, 3375, 3376, 3377, 3378, 3379, 3380, 3381, 3382, 3383, 3384, 3385, 3386, 3387, 3388, 3389, 3390, 3391, 3392, 3393, 3394, 3395, 3396, 3397, 3398, 3399, 3400, 3401, 3402, 3403, 3404, 3405, 3406, 3407, 3408, 3409, 3410, 3411, 3412, 3413, 3414, 3415, 3416, 3417, 3418, 3419, 3420, 3421, 3422, 3423, 3424, 3425, 3426, 3427, 3428, 3429, 3430, 3431, 3432, 3433, 3434, 3435, 3436, 3437, 3438, 3439, 3440, 3441, 3442, 3443, 3444, 3445, 3446, 3447, 3448, 3449, 3450, 3451, 3452, 3453, 3454, 3455, 3456, 3457, 3458, 3459, 3460, 3461, 3462, 3463, 3464, 3465, 3466, 3467, 3468, 3469, 3470, 3471, 3472, 3473, 3474, 3475, 3476, 3477, 3478, 3479, 3480, 3481, 3482, 3483, 3484, 3485, 3486, 3487, 3488, 3489, 3490, 3491, 3492, 3493, 3494, 3495, 3496, 3497, 3498, 3499, 3500, 3501, 3502, 3503, 3504, 3505, 3506, 3507, 3508, 3509, 3510, 3511, 3512, 3513, 3514, 3515, 3516, 3517, 3518, 3519, 3520, 3521, 3522, 3523, 3524, 3525, 3526, 3527, 3528, 3529, 3530, 3531, 3532, 3533, 3534, 3535, 3536, 3537, 3538, 3539, 3540, 3541, 3542, 3543, 3544, 3545, 3546, 3547, 3548, 3549, 3550, 3551, 3552, 3553, 3554, 3555, 3556, 3557, 3558, 3559, 3560, 3561, 3562, 3563, 3564, 3565, 3566, 3567, 3568, 3569, 3570, 3571, 3572, 3573, 3574, 3575, 3576, 3577, 3578, 3579, 3580, 3581, 3582, 3583, 3584, 3585, 3586, 3587, 3588, 3589, 3590, 3591, 3592, 3593, 3594, 3595, 3596, 3597, 3598, 3599, 3600, 3601, 3602, 3603, 3604, 3605, 3606, 3607, 3608, 3609, 3610, 3611, 3612, 3613, 3614, 3615, 3616, 3617, 3618, 3619, 3620, 3621, 3622, 3623, 3624, 3625, 3626, 3627, 3628, 3629, 3630, 3631, 3632, 3633, 3634, 3635, 3636, 3637, 3638, 3639, 3640, 3641, 3642, 3643, 3644, 3645, 3646, 3647, 3648, 3649, 3650, 3651, 3652, 3653, 3654, 3655, 3656, 3657, 3658, 3659, 3660, 3661, 3662, 3663, 3664, 3665, 3666, 3667, 3668, 3669, 3670, 3671, 3672, 3673, 3674, 3675, 3676, 3677, 3678, 3679, 3680, 3681, 3682, 3683, 3684, 3685, 3686, 3687, 3688, 3689, 3690, 3691, 3692, 3693, 3694, 3695, 3696, 3697, 3698, 3699, 3700, 3701, 3702, 3703, 3704, 3705, 3706, 3707, 3708, 3709, 3710, 3711, 3712, 3713, 3714, 3715, 3716, 3717, 3718, 3719, 3720, 3721, 3722, 3723, 3724, 3725, 3726, 3727, 3728, 3729, 3730, 3731, 3732, 3733, 3734, 3735, 3736, 3737, 3738, 3739, 3740, 3741, 3742, 3743, 3744, 3745, 3746, 3747, 3748, 3749, 3750, 3751, 3752, 3753, 3754, 3755, 3756, 3757, 3758, 3759, 3760, 3761, 3762, 3763, 3764, 3765, 3766, 3767, 3768, 3769, 3770, 3771, 3772, 3773, 3774, 3775, 3776, 3777, 3778, 3779, 3780, 3781, 3782, 3783, 3784, 3785, 3786, 3787, 3788, 3789, 3790, 3791, 3792, 3793, 3794, 3795, 3796, 3797, 3798, 3799, 3800, 3801, 3802, 3803, 3804, 3805, 3806, 3807, 3808, 3809, 3810, 3811, 3812, 3813, 3814, 3815, 3816, 3817, 3818, 3819, 3820, 3821, 3822, 3823, 3824, 3825, 3826, 3827, 3828, 3829, 3830, 3831, 3832, 3833, 3834, 3835, 3836, 3837, 3838, 3839, 3840, 3841, 3842, 3843, 3844, 3845]\n",
            "3846\n"
          ]
        }
      ],
      "source": [
        "num_interactions = concatenated_edge_index.shape[1]\n",
        "all_indices = [i for i in range(num_interactions)]\n",
        "\n",
        "print(concatenated_edge_index.shape[1])\n",
        "print(all_indices)\n",
        "print(len(all_indices))"
      ]
    },
    {
      "cell_type": "code",
      "execution_count": null,
      "metadata": {
        "colab": {
          "base_uri": "https://localhost:8080/"
        },
        "id": "zBlnudMMv4RW",
        "outputId": "a8eba7f2-3e27-4499-f70a-44e16d150580"
      },
      "outputs": [
        {
          "output_type": "stream",
          "name": "stdout",
          "text": [
            "[3232, 1893, 1169, 3574, 1860, 3429, 223, 613, 2776, 1504, 2399, 1329, 968, 2766, 180, 1402, 3175, 730, 616, 3751, 2290, 111, 3528, 133, 3445, 527, 3721, 1651, 289, 2735, 2182, 813, 3317, 44, 1373, 3743, 808, 440, 41, 1305, 2956, 1573, 2711, 3191, 1144, 1217, 1873, 592, 2155, 3089, 335, 367, 3271, 3154, 3705, 3027, 2815, 2111, 2834, 3172, 1104, 3841, 3823, 231, 314, 2600, 340, 1100, 3267, 1044, 1597, 1973, 383, 547, 747, 3665, 2359, 3411, 2234, 2135, 586, 2474, 3682, 756, 945, 1823, 434, 3255, 3414, 3324, 3794, 3583, 2308, 1896, 1435, 3194, 3250, 1159, 1881, 3135, 1780, 3476, 151, 1588, 941, 1548, 2909, 644, 346, 396, 1404, 582, 3038, 3053, 3762, 1143, 3752, 3537, 490, 3830, 973, 3249, 1870, 1342, 1399, 598, 3468, 839, 3741, 1004, 2584, 192, 1120, 2142, 2130, 2426, 3114, 521, 2435, 3310, 2990, 792, 3656, 1766, 3242, 600, 1596, 439, 1247, 2270, 87, 3499, 2550, 3816, 2284, 3107, 394, 2256, 3545, 2470, 671, 1034, 982, 10, 438, 1213, 3123, 2158, 3651, 3558, 2317, 460, 3616, 157, 248, 3454, 2039, 2243, 2750, 3239, 2163, 1421, 569, 1173, 1398, 2721, 2717, 1614, 1363, 2538, 3033, 3018, 2101, 228, 3146, 3487, 2657, 2724, 1503, 2316, 1805, 2703, 3511, 802, 3061, 2609, 3700, 623, 2813, 1135, 1093, 2500, 1126, 3689, 713, 1400, 2167, 3385, 1412, 3223, 1586, 1827, 3202, 1377, 3359, 2279, 2344, 2842, 125, 933, 3812, 946, 3475, 1273, 1678, 3025, 2567, 595, 299, 1542, 2838, 486, 3539, 1953, 898, 3333, 2771, 1206, 1489, 2508, 2583, 2384, 577, 2123, 1475, 1123, 3422, 2168, 3828, 583, 422, 2387, 1502, 2650, 3097, 1554, 2936, 3520, 227, 2745, 2341, 1299, 273, 2743, 3567, 2388, 1736, 1045, 3821, 1859, 825, 1938, 1216, 432, 1189, 2849, 3427, 816, 1802, 3285, 2594, 3435, 146, 2775, 3346, 1924, 2438, 2513, 2369, 470, 1907, 2642, 204, 774, 3130, 1041, 1171, 2605, 602, 1089, 3563, 304, 3020, 2514, 1177, 979, 549, 1396, 218, 2097, 2941, 576, 2623, 1051, 445, 1648, 627, 347, 341, 3274, 777, 436, 1330, 499, 303, 926, 1846, 675, 2275, 260, 927, 584, 1851, 3193, 2005, 2084, 241, 1961, 3522, 2733, 1142, 2837, 896, 1621, 3424, 1408, 2691, 3398, 2361, 81, 2698, 2850, 1221, 1387, 54, 1316, 138, 2079, 2702, 2639, 1237, 2411, 2297, 1719, 1931, 681, 2881, 250, 2984, 2970, 2348, 3028, 536, 3361, 2126, 3467, 1077, 866, 2740, 751, 3657, 2695, 1707, 783, 3256, 1814, 3306, 2238, 47, 2422, 1336, 3293, 2582, 1915, 509, 2343, 2483, 3573, 2415, 1132, 1197, 579, 3799, 1826, 3699, 2720, 428, 34, 707, 1103, 1270, 370, 485, 2529, 520, 571, 599, 3757, 233, 2900, 3162, 1071, 2236, 2421, 1082, 3843, 1847, 1749, 607, 635, 2349, 2975, 1661, 2952, 3755, 533, 643, 1856, 3246, 1833, 120, 620, 2106, 2883, 3756, 2823, 3529, 1322, 2767, 1002, 2132, 1359, 3685, 688, 3400, 1546, 2183, 3695, 1268, 1892, 2062, 2098, 3105, 3458, 3704, 1922, 1626, 177, 1556, 2954, 2019, 553, 2572, 2528, 285, 2746, 2656, 91, 2668, 2414, 3535, 2114, 1406, 2501, 2010, 3517, 918, 3694, 1882, 2868, 2347, 1043, 1149, 3201, 3681, 3362, 693, 1773, 3370, 275, 3775, 970, 2856, 3065, 2078, 2641, 2569, 3379, 959, 2430, 1334, 729, 236, 3063, 1263, 1008, 1688, 1419, 270, 221, 2950, 2420, 1658, 1433, 3739, 885, 1466, 1347, 2095, 3295, 1138, 3521, 1223, 1422, 3710, 3143, 1091, 3231, 1241, 103, 1760, 1794, 683, 1467, 2000, 2578, 2479, 2443, 2389, 3630, 2241, 3068, 32, 199, 1957, 2289, 1463, 2320, 302, 39, 3456, 68, 3408, 134, 679, 1417, 2655, 2558, 154, 480, 2032, 365, 733, 1899, 2056, 1708, 1151, 954, 1854, 287, 1925, 3791, 1016, 501, 119, 1447, 3113, 785, 1807, 1964, 561, 1784, 3203, 508, 2463, 3101, 1230, 3016, 1507, 1410, 2922, 1930, 793, 3153, 2786, 1552, 1097, 1293, 2480, 2223, 1537, 2104, 2015, 82, 1403, 3554, 2356, 3204, 2402, 1459, 1540, 1720, 840, 1642, 2785, 764, 2595, 543, 477, 1549, 2118, 654, 283, 1828, 2070, 2404, 1456, 2510, 3561, 981, 3819, 1153, 2292, 674, 468, 2268, 429, 1962, 2692, 916, 166, 1011, 1657, 3471, 476, 3072, 3214, 1468, 1178, 56, 2115, 208, 3207, 2991, 1307, 2619, 425, 2660, 556, 1265, 3401, 3845, 2637, 492, 961, 1625, 3687, 987, 3024, 2475, 1990, 1966, 3330, 2825, 2748, 3393, 2124, 2245, 1000, 1744, 336, 1808, 1670, 2620, 1352, 559, 817, 390, 737, 3075, 1068, 937, 2530, 1993, 1777, 2680, 3388, 257, 1848, 1339, 1650, 216, 2727, 1524, 510, 1009, 1587, 526, 1858, 2229, 132, 414, 35, 1944, 64, 1282, 2911, 638, 1710, 1224, 1441, 1218, 3319, 788, 1550, 3026, 767, 3469, 3297, 1950, 1992, 1108, 3827, 2157, 911, 1921, 2457, 191, 2367, 3835, 2627, 1409, 2048, 2471, 2932, 2913, 2093, 452, 1234, 196, 3484, 1607, 1754, 459, 2914, 3348, 680, 3466, 418, 1723, 361, 1825, 202, 934, 1477, 2193, 3407, 2526, 124, 2517, 2102, 338, 924, 3716, 3014, 503, 3108, 446, 2511, 1885, 2535, 2476, 2489, 3621, 2496, 935, 1450, 2755, 2073, 1353, 1592, 2466, 1188, 217, 1415, 3048, 3446, 3582, 1392, 2938, 877, 1246, 3599, 1946, 3156, 2096, 1481, 3076, 736, 3326, 1490, 1381, 735, 2731, 2629, 711, 660, 1446, 2841, 2150, 288, 1494, 1357, 3176, 1911, 1999, 226, 760, 1945, 2190, 514, 2732, 1294, 2300, 1605, 3652, 3645, 3478, 3628, 2456, 104, 3676, 800, 768, 3037, 2213, 2635, 2738, 2440, 1454, 1690, 3544, 828, 2340, 3200, 401, 2985, 2447, 849, 3430, 1995, 1778, 1364, 2129, 537, 3320, 3551, 3118, 2149, 578, 692, 1611, 2888, 130, 1829, 3663, 1577, 655, 444, 1943, 1117, 1865, 1228, 2188, 3785, 1728, 1684, 2358, 590, 858, 1575, 478, 1081, 2947, 1721, 608, 348, 2146, 2378, 3316, 612, 456, 3576, 572, 3527, 743, 703, 182, 2998, 242, 3593, 1394, 1053, 1748, 653, 148, 708, 2169, 23, 1264, 1285, 2064, 1532, 1436, 919, 2794, 2383, 3158, 3724, 3844, 2487, 2726, 3460, 2604, 1937, 1509, 1260, 48, 3119, 2942, 712, 1443, 645, 3754, 21, 3051, 2175, 615, 670, 3418, 2676, 2803, 900, 1414, 3525, 2390, 3635, 3382, 3096, 985, 2701, 2964, 2473, 206, 3269, 30, 258, 2739, 1226, 2066, 2088, 1960, 173, 1941, 3222, 3610, 1193, 859, 1652, 3569, 1796, 2329, 443, 2045, 807, 3322, 2323, 1015, 2011, 1083, 1147, 493, 1623, 2024, 3659, 1001, 3084, 3331, 2054, 309, 972, 1308, 332, 1225, 1660, 1210, 441, 1906, 2026, 2707, 689, 1697, 3301, 763, 2744, 2018, 3219, 3127, 1916, 1663, 3480, 1297, 1701, 16, 2166, 2863, 640, 2314, 3179, 2694, 1165, 3472, 1604, 2891, 3300, 1947, 1186, 1884, 1724, 3395, 614, 1498, 3658, 2751, 1716, 2907, 421, 3220, 1929, 3789, 2453, 917, 585, 2362, 2684, 3406, 3516, 76, 190, 2973, 718, 997, 2174, 2773, 2281, 3017, 3335, 1, 1355, 2876, 1407, 639, 375, 3128, 1506, 3169, 2543, 3620, 3647, 745, 2534, 3409, 1430, 642, 1384, 189, 1515, 3541, 2700, 3240, 1122, 11, 353, 350, 3226, 2159, 200, 2434, 3197, 1628, 128, 3800, 447, 2969, 2699, 3073, 90, 881, 2482, 2017, 1863, 1058, 1470, 2928, 1401, 62, 2793, 3840, 3131, 1517, 1702, 115, 2259, 2006, 3126, 2170, 3355, 1918, 3344, 3662, 2497, 1933, 1205, 406, 3709, 1438, 2377, 1027, 3634, 1816, 2577, 3375, 3506, 1382, 3064, 2336, 3358, 1917, 3151, 2967, 1483, 2416, 325, 940, 2350, 1986, 2778, 3376, 2427, 1094, 2401, 2179, 1292, 1565, 852, 2264, 1102, 2031, 1617, 778, 1365, 1804, 1129, 3489, 3283, 3198, 2672, 1569, 3182, 2053, 3776, 1534, 140, 2293, 1589, 2728, 448, 1185, 389, 1231, 3748, 820, 2790, 697, 2809, 2049, 2647, 484, 1136, 1817, 229, 3372, 2136, 2242, 3587, 1152, 3120, 2271, 2696, 24, 1118, 101, 628, 1471, 261, 1862, 1388, 992, 1249, 2554, 3483, 2899, 3575, 1561, 1695, 8, 2037, 1066, 1902, 363, 3697, 1713, 1013, 400, 2817, 3829, 1994, 1539, 2276, 498, 2295, 3004, 1233, 38, 2704, 2068, 864, 1606, 3552, 345, 3299, 3450, 2708, 385, 2038, 3671, 2761, 787, 207, 1069, 2828, 669, 851, 1654, 698, 3248, 293, 3463, 894, 1325, 983, 1112, 631, 1967, 212, 3208, 1609, 3675, 1287, 198, 2338, 3726, 1442, 523, 1934, 3832, 3515, 2719, 2379, 2677, 2162, 3060, 3822, 2689, 821, 1204, 2410, 1664, 3670, 3824, 2085, 3572, 1645, 2490, 750, 1161, 3266, 2074, 3054, 158, 1146, 294, 977, 259, 1761, 3470, 3803, 1369, 2459, 904, 513, 67, 2491, 2532, 1726, 1790, 2917, 3003, 3233, 3770, 3357, 2273, 1397, 1244, 2722, 149, 1172, 3380, 3188, 887, 920, 1818, 1487, 2173, 1872, 2983, 3282, 672, 1908, 2108, 1646, 2035, 1681, 264, 1323, 596, 3090, 3032, 3338, 3625, 1691, 209, 2433, 2392, 1500, 1084, 2978, 1109, 634, 3474, 809, 3268, 2437, 51, 3440, 2128, 2555, 1037, 3392, 369, 2860, 1482, 1362, 1514, 2152, 3371, 3138, 2462, 1599, 575, 2248, 3134, 2847, 160, 1245, 1354, 1289, 139, 1157, 3781, 1115, 853, 2249, 3807, 3189, 53, 3327, 3304, 2177, 2194, 3252, 619, 995, 2494, 1601, 1212, 3556, 167, 2001, 3071, 3275, 3438, 3688, 2630, 3784, 3192, 3272, 3672, 2328, 529, 59, 948, 2354, 2299, 281, 1183, 1629, 2875, 2827, 2274, 3560, 3612, 1326, 1276, 1283, 2957, 805, 3431, 1529, 2542, 49, 1570, 1558, 2709, 801, 3044, 1310, 2454, 424, 0, 2357, 2920, 2988, 976, 2034, 1269, 176, 3078, 512, 1286, 1462, 1812, 1139, 1855, 766, 1348, 2671, 1054, 1317, 3417, 1262, 3712, 3042, 3461, 380, 1866, 3132, 2762, 3581, 3771, 419, 625, 2087, 1480, 1059, 1970, 80, 73, 2313, 1252, 2409, 1894, 1864, 1461, 507, 1181, 3315, 488, 1124, 2873, 1541, 388, 2855, 2640, 2211, 1290, 861, 2833, 815, 1086, 2679, 1576, 2112, 3834, 3261, 1279, 604, 3031, 3495, 352, 323, 3279, 2798, 2874, 1655, 2198, 2082, 2425, 1405, 2871, 1699, 1705, 2067, 622, 2878, 2633, 2963, 1831, 1274, 2207, 163, 1753, 2047, 2495, 2246, 2861, 408, 142, 22, 2252, 1770, 1005, 641, 3381, 1343, 384, 888, 2851, 1085, 2887, 531, 1853, 1935, 3502, 3730, 1932, 1671, 2109, 3500, 1148, 786, 1585, 3678, 3650, 3040, 3112, 952, 2160, 3405, 3708, 1574, 1955, 2742, 3340, 3103, 3235, 1331, 1842, 2208, 2667, 754, 2481, 1378, 3079, 2100, 286, 3009, 3277, 1079, 1511, 2812, 135, 2458, 2191, 211, 2939, 274, 88, 3448, 298, 567, 3180, 315, 2151, 3305, 2020, 2894, 3034, 3413, 528, 3571, 308, 1505, 1374, 1134, 1203, 1318, 2332, 833, 2110, 1682, 2287, 2380, 3365, 2004, 2960, 2515, 1166, 629, 2896, 3081, 3464, 3058, 2140, 1861, 1222, 3615, 3833, 3336, 159, 3514, 2801, 3592, 371, 2131, 3722, 3604, 2337, 1553, 239, 1429, 1978, 2449, 2202, 618, 2381, 1090, 295, 430, 279, 3602, 27, 3083, 2879, 1656, 722, 969, 3750, 3477, 2921, 950, 1211, 1428, 426, 3723, 175, 1923, 3542, 593, 404, 491, 3039, 824, 847, 2654, 3619, 1711, 3251, 1788, 2291, 1370, 2759, 2145, 409, 2060, 2585, 3088, 2452, 1841, 951, 1304, 1209, 2391, 974, 474, 215, 3711, 500, 1583, 2285, 1634, 2036, 538, 2575, 1130, 2063, 3707, 496, 311, 131, 251, 2930, 1314, 2774, 2184, 647, 594, 3673, 810, 3086, 2673, 278, 2407, 29, 3000, 1731, 2398, 2712, 2286, 2075, 1877, 147, 659, 2830, 1974, 2725, 570, 2601, 46, 649, 1886, 868, 2576, 890, 1320, 2573, 2999, 827, 2772, 2948, 1662, 2023, 33, 1843, 1416, 3205, 2503, 1057, 597, 860, 9, 2138, 1984, 789, 2310, 2531, 2196, 3391, 1243, 3512, 78, 3227, 2632, 2406, 2083, 2713, 234, 2687, 2371, 2, 3642, 3792, 1755, 1476, 1048, 1240, 1418, 938, 395, 862, 3772, 2551, 3165, 2431, 310, 1618, 2872, 1940, 2568, 2756, 1779, 3116, 1229, 759, 1811, 3421, 1367, 2237, 1733, 3817, 663, 3332, 2622, 3732, 2363, 742, 2854, 3594, 3195, 1512, 3369, 26, 3307, 1014, 2304, 2971, 966, 1600, 1972, 682, 3296, 863, 2546, 2089, 991, 914, 2665, 3218, 2147, 185, 1764, 922, 74, 2852, 3597, 3524, 2484, 740, 2992, 3518, 1743, 2564, 819, 2811, 1116, 1709, 156, 2467, 831, 1358, 3225, 502, 3339, 2364, 2598, 3216, 3052, 2397, 2044, 1980, 3759, 1056, 2683, 1346, 3441, 2366, 2591, 355, 3488, 2541, 3111, 723, 2228, 1976, 244, 3546, 1298, 3485, 392, 1746, 3354, 85, 746, 1180, 3066, 1315, 2090, 1101, 912, 962, 554, 3008, 2428, 3664, 2557, 3626, 106, 2007, 437, 1800, 2235, 2212, 2441, 170, 3396, 1985, 1371, 2122, 1676, 1158, 1127, 2057, 3211, 2058, 2355, 826, 3091, 284, 3178, 3491, 2664, 3503, 3713, 2649, 3314, 2280, 1440, 2521, 3412, 2187, 2826, 3641, 2003, 1250, 1954, 2153, 2239, 1256, 55, 482, 43, 1821, 1543, 320, 1341, 2134, 3806, 2478, 3798, 1437, 3093, 3786, 2255, 237, 1797, 1809, 1003, 3589, 2393, 2902, 3210, 2933, 2802, 2505, 1199, 300, 2507, 942, 2904, 2370, 1259, 2906, 2522, 463, 5, 841, 1868, 326, 2885, 3377, 3292, 1464, 892, 2061, 694, 387, 2571, 603, 842, 322, 2747, 1867, 3684, 2916, 3228, 2613, 3155, 3415, 2563, 2602, 1280, 830, 1904, 455, 307, 2120, 2305, 2262, 2050, 1302, 328, 3814, 1704, 2858, 1718, 2612, 479, 3735, 3206, 117, 1971, 1557, 3501, 1029, 466, 3373, 3122, 2882, 2493, 3318, 1969, 1198, 1356, 1901, 1975, 776, 2652, 568, 1786, 3080, 2918, 3768, 1092, 1257, 1998, 84, 1665, 3436, 2685, 2789, 755, 2143, 2199, 511, 3842, 2436, 731, 2220, 2972, 530, 3005, 765, 1479, 2783, 2002, 1361, 3343, 3181, 3183, 374, 1633, 2926, 2757, 2859, 1184, 1714, 3237, 2718, 2080, 1793, 238, 127, 354, 164, 1510, 2319, 3679, 1319, 3167, 2540, 472, 1997, 3171, 2042, 3654, 2137, 3085, 97, 1839, 1023, 2014, 3289, 3777, 449, 550, 3447, 276, 2266, 178, 433, 1340, 3030, 2615, 1591, 1643, 3416, 1516, 741, 867, 1769, 483, 2810, 2021, 2898, 3764, 2977, 2485, 3609, 780, 548, 2901, 1963, 3624, 782, 2593, 2951, 1889, 1007, 3067, 3254, 673, 2203, 686, 875, 458, 2865, 1989, 1910, 1267, 752, 121, 699, 2924, 2846, 3729, 3598, 2626, 1444, 1948, 2903, 2232, 2086, 31, 2154, 1750, 2071, 2758, 69, 3631, 3384, 1119, 3600, 1190, 3494, 1531, 3649, 1242, 3607, 265, 3099, 1458, 1912, 504, 2324, 2857, 339, 3329, 2993, 3350, 2233, 798, 930, 3243, 744, 978, 3229, 61, 1775, 1602, 2845, 3745, 2460, 3788, 141, 3565, 2439, 1567, 193, 646, 2081, 360, 2848, 3519, 57, 2986, 3141, 358, 3419, 1568, 2116, 2339, 2094, 923, 2041, 277, 2200, 3773, 2272, 2912, 381, 2192, 2412, 1451, 1390, 3753, 1024, 2821, 3124, 1952, 66, 1055, 2915, 1739, 2076, 2342, 113, 245, 1439, 1022, 980, 411, 2261, 1062, 116, 3702, 3443, 247, 665, 3744, 3312, 92, 114, 1376, 2302, 2477, 2636, 3437, 118, 1981, 2180, 162, 263, 3595, 1313, 246, 3106, 775, 552, 1113, 3164, 580, 844, 1460, 3166, 651, 1170, 3011, 3769, 2581, 2910, 3761, 3578, 1368, 897, 3763, 3778, 676, 14, 2548, 967, 1106, 240, 1254, 2648, 2923, 2321, 1936, 684, 168, 1639, 1133, 2419, 1878, 1715, 271, 2653, 1473, 1253, 1547, 214, 3321, 344, 838, 1615, 2195, 1835, 3069, 795, 412, 1712, 2831, 342, 947, 2795, 2221, 1757, 377, 1491, 738, 3245, 52, 18, 1309, 2269, 2450, 998, 3094, 1389, 95, 1499, 2309, 2590, 3691, 179, 3174, 1598, 716, 2976, 184, 467, 903, 3457, 71, 3288, 1898, 3264, 2394, 3213, 1207, 2077, 3669, 2844, 1063, 1528, 2205, 2980, 658, 3605, 1838, 2442, 1076, 3036, 454, 1383, 2382, 402, 989, 1445, 1472, 677, 1616, 1251, 1983, 822, 963, 835, 1033, 174, 939, 3102, 3149, 691, 2587, 334, 873, 2853, 3617, 2055, 2565, 197, 296, 3290, 3623, 1530, 1745, 122, 378, 3110, 3591, 3298, 2210, 3234, 3139, 2172, 2599, 2052, 915, 1871, 3006, 3549, 3513, 611, 1771, 2335, 956, 1632, 1887, 3836, 3403, 3337, 908, 506, 356, 1423, 3677, 2400, 2892, 1154, 1722, 3433, 2884, 2994, 667, 886, 1284, 3507, 333, 153, 1420, 2835, 2549, 1840, 721, 373, 2638, 312, 1849, 1622, 42, 3383, 2693, 3667, 971, 3808, 3100, 522, 417, 762, 657, 3692, 3455, 704, 732, 2498, 3497, 3230, 944, 2216, 3586, 2408, 1806, 1018, 1469, 907, 1693, 2791, 272, 1493, 519, 814, 818, 734, 1522, 1638, 3795, 2716, 3390, 3825, 1700, 1121, 2176, 1914, 3046, 3622, 1883, 2592, 379, 2251, 343, 2148, 2144, 2566, 1942, 1803, 3613, 2536, 1261, 3815, 2012, 1424, 1594, 2965, 232, 794, 1706, 3719, 1820, 3170, 2562, 2405, 2559, 112, 999, 2265, 1582, 2547, 3805, 2982, 225, 1042, 1192, 3553, 3364, 2937, 1449, 2445, 1763, 1666, 2588, 2376, 2843, 848, 3608, 621, 3423, 2141, 213, 770, 337, 803, 2260, 2666, 3187, 1182, 1168, 3184, 36, 105, 362, 850, 1740, 2804, 2806, 2413, 856, 1465, 3523, 2953, 565, 249, 2524, 1474, 3746, 3236, 2829, 2502, 317, 1200, 1107, 2278, 3367, 652, 70, 1667, 2658, 1174, 1088, 2919, 3790, 410, 3690, 3199, 2386, 1025, 2091, 539, 601, 1332, 3013, 3638, 1434, 2219, 2465, 3536, 837, 3325, 3504, 1627, 806, 882, 1484, 3780, 637, 423, 727, 3015, 1996, 3387, 376, 524, 3714, 2486, 2523, 150, 3109, 1580, 1949, 1774, 626, 3029, 3002, 3646, 1845, 3481, 143, 717, 2574, 2631, 3023, 566, 3280, 1880, 2488, 1155, 3452, 2222, 3342, 1431, 3534, 2171, 2186, 879, 1075, 2780, 624, 3760, 3347, 2832, 3813, 1366, 3328, 2230, 617, 1324, 1982, 690, 3596, 2288, 3302, 1689, 1350, 3639, 2506, 2729, 1830, 1686, 1692, 465, 1187, 1191, 145, 2254, 3260, 2880, 324, 2705, 1762, 706, 714, 1834, 3693, 1111, 2127, 901, 3648, 687, 2214, 1630, 2277, 3782, 2499, 1939, 1824, 2788, 100, 290, 2492, 878, 1455, 3125, 2787, 391, 86, 2283, 2714, 1275, 1523, 2958, 475, 1694, 1295, 2092, 2836, 3050, 1137, 2072, 1235, 832, 3241, 591, 3818, 3021, 1620, 3104, 1635, 109, 1160, 3402, 222, 1052, 1311, 2770, 2103, 3820, 253, 3360, 1072, 1619, 1492, 2690, 545, 2525, 949, 1571, 843, 63, 413, 2432, 3738, 3022, 3394, 884, 451, 1258, 656, 1879, 1581, 1486, 3496, 1485, 1327, 2417, 2737, 2267, 77, 3368, 2069, 2808, 869, 2468, 3397, 2247, 450, 3209, 1019, 1560, 2959, 1979, 696, 1741, 811, 3284, 3809, 910, 1521, 1049, 505, 3653, 3303, 405, 3640, 2365, 183, 3168, 3701, 1876, 1717, 609, 2674, 2033, 2533, 2326, 1968, 2678, 20, 2218, 1425, 2949, 3087, 1590, 2224, 327, 2754, 3270, 2518, 1874, 2537, 3811, 266, 1890, 2663, 1756, 3564, 2178, 865, 3774, 3410, 3696, 489, 3644, 606, 3265, 3212, 2464, 3548, 1738, 152, 889, 3765, 2897, 2327, 3082, 269, 96, 2258, 3580, 2617, 964, 1799, 871, 1572, 3614, 532, 1067, 3404, 1099, 2760, 2125, 2311, 715, 2197, 3779, 1538, 3787, 469, 564, 1798, 461, 1277, 2944, 1795, 1869, 1393, 1345, 695, 1175, 1752, 928, 3374, 1214, 2634, 1372, 243, 3159, 2799, 1679, 3351, 3490, 1312, 648, 3238, 2643, 313, 2981, 155, 3428, 3453, 1303, 1150, 3047, 1801, 1046, 1640, 3737, 1306, 1927, 1495, 3439, 25, 2244, 3136, 15, 3538, 1321, 883, 2669, 1360, 1844, 3098, 1612, 3115, 497, 2840, 3012, 515, 3802, 3633, 1478, 1411, 1095, 542, 2504, 633, 431, 2675, 3725, 728, 1288, 2257, 316, 1920, 2561, 1337, 3606, 2877, 319, 1031, 3465, 2025, 2189, 1110, 1888, 3550, 1527, 753, 3049, 3287, 2628, 562, 2446, 668, 3562, 252, 2955, 2516, 2962, 357, 1278, 1300, 1202, 3353, 3462, 2556, 2797, 3655, 129, 144, 960, 2895, 3717, 2763, 905, 3839, 1096, 235, 1061]\n",
            "770\n"
          ]
        }
      ],
      "source": [
        "train_indices, test_indices = train_test_split(all_indices,\n",
        "                                               test_size=0.2,\n",
        "                                               random_state=1)\n",
        "print(train_indices)\n",
        "print(len(test_indices))"
      ]
    },
    {
      "cell_type": "code",
      "execution_count": null,
      "metadata": {
        "colab": {
          "base_uri": "https://localhost:8080/"
        },
        "id": "Dg86sskbv4Uc",
        "outputId": "780fe20d-bc67-474a-de1f-990e9de65fed"
      },
      "outputs": [
        {
          "output_type": "stream",
          "name": "stdout",
          "text": [
            "385\n",
            "385\n"
          ]
        }
      ],
      "source": [
        "val_indices, test_indices = train_test_split(test_indices,\n",
        "                                             test_size=0.5,\n",
        "                                             random_state=1)\n",
        "print(len(val_indices))\n",
        "print(len(test_indices))"
      ]
    },
    {
      "cell_type": "code",
      "execution_count": null,
      "metadata": {
        "colab": {
          "base_uri": "https://localhost:8080/"
        },
        "id": "PHbrGpHiv4Wj",
        "outputId": "87635266-07ae-4dcf-8fa5-e4283a9fdf29"
      },
      "outputs": [
        {
          "output_type": "stream",
          "name": "stdout",
          "text": [
            "torch.Size([2, 3076])\n",
            "tensor([[1073, 2585,  934,  ...,  852,   73,  827],\n",
            "        [ 237, 2870, 1617,  ...,  853,  189, 1828]])\n"
          ]
        }
      ],
      "source": [
        "train_edge_index = concatenated_edge_index[:, train_indices]\n",
        "print(train_edge_index.shape)\n",
        "print(train_edge_index)"
      ]
    },
    {
      "cell_type": "code",
      "execution_count": null,
      "metadata": {
        "colab": {
          "base_uri": "https://localhost:8080/"
        },
        "id": "hg_9dKwAv4Yp",
        "outputId": "24c8749e-cf0c-4850-8718-02bad236c4a0"
      },
      "outputs": [
        {
          "output_type": "stream",
          "name": "stdout",
          "text": [
            "tensor([[ 21.5647],\n",
            "        [ 50.6347],\n",
            "        [111.8667],\n",
            "        ...,\n",
            "        [ 24.4081],\n",
            "        [  1.2479],\n",
            "        [276.5504]])\n"
          ]
        }
      ],
      "source": [
        "train_edge_attr = data.edge_attr[train_indices]\n",
        "print(train_edge_attr)"
      ]
    },
    {
      "cell_type": "code",
      "execution_count": null,
      "metadata": {
        "colab": {
          "base_uri": "https://localhost:8080/"
        },
        "id": "ncxGBz_Zv4br",
        "outputId": "e78ac1bb-1b41-4ba1-f3f5-b1d0c45a8faf"
      },
      "outputs": [
        {
          "output_type": "stream",
          "name": "stdout",
          "text": [
            "torch.Size([3076])\n"
          ]
        }
      ],
      "source": [
        "train_edge_label=data.edge_labels[train_indices]\n",
        "print(train_edge_label.shape)"
      ]
    },
    {
      "cell_type": "code",
      "source": [
        "len(node_features_df)"
      ],
      "metadata": {
        "colab": {
          "base_uri": "https://localhost:8080/"
        },
        "id": "oEejwVyzt0lr",
        "outputId": "5d26e872-b421-463b-97ba-2f05e174c881"
      },
      "execution_count": null,
      "outputs": [
        {
          "output_type": "execute_result",
          "data": {
            "text/plain": [
              "3084"
            ]
          },
          "metadata": {},
          "execution_count": 188
        }
      ]
    },
    {
      "cell_type": "code",
      "execution_count": null,
      "metadata": {
        "id": "Wc_Xmz_Cv4eK"
      },
      "outputs": [],
      "source": [
        "trainset=Data(\n",
        "    x=node_features,\n",
        "    edge_index=train_edge_index,\n",
        "    y=concatenated_node_labels,\n",
        "    edge_attr=train_edge_attr,\n",
        "    edge_labels=train_edge_label\n",
        ")"
      ]
    },
    {
      "cell_type": "code",
      "execution_count": null,
      "metadata": {
        "colab": {
          "base_uri": "https://localhost:8080/"
        },
        "id": "T2vRw7ZKv4gk",
        "outputId": "3909a146-42a7-4299-e254-169d94c15e56"
      },
      "outputs": [
        {
          "output_type": "stream",
          "name": "stdout",
          "text": [
            "torch.Size([2, 385])\n"
          ]
        }
      ],
      "source": [
        "val_edge_index = concatenated_edge_index[:, val_indices]\n",
        "print(val_edge_index.shape)"
      ]
    },
    {
      "cell_type": "code",
      "execution_count": null,
      "metadata": {
        "colab": {
          "base_uri": "https://localhost:8080/"
        },
        "id": "cluU4GLpv4jN",
        "outputId": "83da0a99-5652-4013-fbaf-1215c220a92b"
      },
      "outputs": [
        {
          "output_type": "stream",
          "name": "stdout",
          "text": [
            "torch.Size([385, 1])\n"
          ]
        }
      ],
      "source": [
        "val_edge_attr = data.edge_attr[val_indices]\n",
        "print(val_edge_attr.shape)"
      ]
    },
    {
      "cell_type": "code",
      "execution_count": null,
      "metadata": {
        "colab": {
          "base_uri": "https://localhost:8080/"
        },
        "id": "bjhr0Ih5v4lr",
        "outputId": "c16cc94d-c8f7-40f5-de4b-bbd58c62db5c"
      },
      "outputs": [
        {
          "output_type": "stream",
          "name": "stdout",
          "text": [
            "torch.Size([385])\n"
          ]
        }
      ],
      "source": [
        "val_edge_label=data.edge_labels[val_indices]\n",
        "print(val_edge_label.shape)"
      ]
    },
    {
      "cell_type": "code",
      "execution_count": null,
      "metadata": {
        "id": "GBdUWzkBv4n7"
      },
      "outputs": [],
      "source": [
        "valset=Data(\n",
        "    x=node_features,\n",
        "    edge_index=val_edge_index,\n",
        "    y=concatenated_node_labels,\n",
        "    edge_attr=val_edge_attr,\n",
        "    edge_labels=val_edge_label\n",
        ")"
      ]
    },
    {
      "cell_type": "code",
      "execution_count": null,
      "metadata": {
        "colab": {
          "base_uri": "https://localhost:8080/"
        },
        "id": "WmMSnclOzasg",
        "outputId": "10e7e9b4-a661-401f-bd27-78dd9a314679"
      },
      "outputs": [
        {
          "output_type": "stream",
          "name": "stdout",
          "text": [
            "torch.Size([2, 385])\n"
          ]
        }
      ],
      "source": [
        "test_edge_index = concatenated_edge_index[:, test_indices]\n",
        "print(test_edge_index.shape)"
      ]
    },
    {
      "cell_type": "code",
      "execution_count": null,
      "metadata": {
        "colab": {
          "base_uri": "https://localhost:8080/"
        },
        "id": "6QZFamzYzavZ",
        "outputId": "01c409f7-ddec-429d-d16e-bc300e17903e"
      },
      "outputs": [
        {
          "output_type": "stream",
          "name": "stdout",
          "text": [
            "torch.Size([385, 1])\n"
          ]
        }
      ],
      "source": [
        "test_edge_attr = data.edge_attr[test_indices]\n",
        "print(test_edge_attr.shape)"
      ]
    },
    {
      "cell_type": "code",
      "execution_count": null,
      "metadata": {
        "colab": {
          "base_uri": "https://localhost:8080/"
        },
        "id": "AlG1i5p2zaxb",
        "outputId": "bd56064c-7f90-4dba-f726-63dcc5fb7056"
      },
      "outputs": [
        {
          "output_type": "stream",
          "name": "stdout",
          "text": [
            "torch.Size([385])\n"
          ]
        }
      ],
      "source": [
        "test_edge_label=data.edge_labels[test_indices]\n",
        "print(test_edge_label.shape)"
      ]
    },
    {
      "cell_type": "code",
      "execution_count": null,
      "metadata": {
        "id": "Wud0xY_Vza0A"
      },
      "outputs": [],
      "source": [
        "testset=Data(\n",
        "    x=node_features,\n",
        "    edge_index=test_edge_index,\n",
        "    y=concatenated_node_labels,\n",
        "    edge_attr=test_edge_attr,\n",
        "    edge_labels=test_edge_label\n",
        ")"
      ]
    },
    {
      "cell_type": "code",
      "source": [
        "import math\n",
        "def uniform(size, tensor):\n",
        "    bound = 1.0 / math.sqrt(size)\n",
        "    if tensor is not None:\n",
        "        tensor.data.uniform_(-bound, bound)"
      ],
      "metadata": {
        "id": "OqFzuuS09P9X"
      },
      "execution_count": null,
      "outputs": []
    },
    {
      "cell_type": "code",
      "source": [],
      "metadata": {
        "id": "MDhFDUZ-Df2E"
      },
      "execution_count": null,
      "outputs": []
    },
    {
      "cell_type": "code",
      "execution_count": null,
      "metadata": {
        "id": "OH4yzhrCv4rd"
      },
      "outputs": [],
      "source": [
        "import torch\n",
        "from torch.nn import Linear,Parameter\n",
        "from torch_geometric.nn.conv import MessagePassing\n",
        "\n",
        "\n",
        "class RGCNConv(MessagePassing):\n",
        "  def __init__(self,in_channels,out_channels,num_relations,num_bases,\n",
        "               root_weight=True,bias=True,**kwargs):\n",
        "      super(RGCNConv,self).__init__(aggr=\"mean\",**kwargs)\n",
        "\n",
        "      self.in_channels = in_channels\n",
        "      self.out_channels = out_channels\n",
        "      self.num_relations = num_relations\n",
        "      self.num_bases = num_bases\n",
        "\n",
        "      self.basis = Parameter(torch.Tensor(num_bases,in_channels,out_channels))\n",
        "      self.att = Parameter(torch.Tensor(num_relations,num_bases))\n",
        "\n",
        "      if root_weight:\n",
        "        self.root = Parameter(torch.Tensor(in_channels,out_channels))\n",
        "      else:\n",
        "        self.register_parameter(\"root\",None)\n",
        "\n",
        "      if bias:\n",
        "            self.bias = nn.Parameter(torch.Tensor(out_channels))\n",
        "      else:\n",
        "            self.register_parameter('bias', None)\n",
        "\n",
        "      self.reset_parameters()\n",
        "  def reset_parameters(self):\n",
        "    size = self.num_bases * self.in_channels\n",
        "    uniform(size, self.basis)\n",
        "    uniform(size, self.att)\n",
        "    uniform(size, self.root)\n",
        "    uniform(size, self.bias)\n",
        "\n",
        "  def forward(self, x, edge_index, edge_type, edge_norm=None, size=None):\n",
        "        return self.propagate(edge_index, size=size, x=x, edge_type=edge_type,\n",
        "                              edge_norm=edge_norm)\n",
        "\n",
        "  def message(self, x_j, edge_index_j, edge_type, edge_norm):\n",
        "        w = torch.matmul(self.att, self.basis.view(self.num_bases, -1))\n",
        "\n",
        "        if x_j is None:\n",
        "            w = w.view(-1, self.out_channels)\n",
        "            index = edge_type * self.in_channels + edge_index_j\n",
        "            out = torch.index_select(w, 0, index)\n",
        "        else:\n",
        "            w = w.view(self.num_relations, self.in_channels, self.out_channels)\n",
        "            edge_type = edge_type.to(torch.int64)\n",
        "            edge_type = edge_type.view(-1)\n",
        "            w = torch.index_select(w, 0, edge_type)\n",
        "            out = torch.bmm(x_j.unsqueeze(1), w).squeeze(-2)\n",
        "\n",
        "        return out if edge_norm is None else out * edge_norm.view(-1, 1)\n",
        "\n",
        "\n",
        "  def __repr__(self):\n",
        "        return '{}({}, {}, num_relations={})'.format(\n",
        "            self.__class__.__name__, self.in_channels, self.out_channels,\n",
        "            self.num_relations)"
      ]
    },
    {
      "cell_type": "code",
      "execution_count": null,
      "metadata": {
        "id": "pCR3YNs4GsBg"
      },
      "outputs": [],
      "source": [
        "import torch.nn.functional as F\n",
        "\n",
        "class LinkPredictionModel(torch.nn.Module):\n",
        "    def __init__(self, dim_in, dim_out,num_relation):\n",
        "        super().__init__()\n",
        "        self.conv1 = RGCNConv(dim_in, dim_out, num_relation, num_bases=3)\n",
        "        self.conv2 = RGCNConv(dim_out, 73, num_relation, num_bases=3)\n",
        "        self.fc = torch.nn.Linear(73, 1)\n",
        "\n",
        "    def forward(self, trainset, edge_type):\n",
        "        x, edge_index = trainset.x, trainset.edge_index\n",
        "        x = self.conv1(x, edge_index, edge_type)\n",
        "        x = self.conv2(x, edge_index, edge_type)\n",
        "        x = torch.sigmoid(self.fc(x))\n",
        "        print(x)\n",
        "        return x"
      ]
    },
    {
      "cell_type": "code",
      "execution_count": null,
      "metadata": {
        "id": "dwwFCrW2GsJY"
      },
      "outputs": [],
      "source": [
        "model1 = LinkPredictionModel(trainset.num_features,146,3461)"
      ]
    },
    {
      "cell_type": "code",
      "execution_count": null,
      "metadata": {
        "colab": {
          "base_uri": "https://localhost:8080/"
        },
        "id": "iyvKuwEHGsLy",
        "outputId": "e574fdb7-1ea4-498e-e8fc-e2859f03646a"
      },
      "outputs": [
        {
          "output_type": "execute_result",
          "data": {
            "text/plain": [
              "LinkPredictionModel(\n",
              "  (conv1): RGCNConv(73, 146, num_relations=3461)\n",
              "  (conv2): RGCNConv(146, 73, num_relations=3461)\n",
              "  (fc): Linear(in_features=73, out_features=1, bias=True)\n",
              ")"
            ]
          },
          "metadata": {},
          "execution_count": 202
        }
      ],
      "source": [
        "model1"
      ]
    },
    {
      "cell_type": "code",
      "execution_count": null,
      "metadata": {
        "id": "xE-BfAV-WjgL"
      },
      "outputs": [],
      "source": [
        "criterion = torch.nn.BCELoss()\n",
        "optimizer = torch.optim.Adam(model1.parameters(), lr=0.01)"
      ]
    },
    {
      "cell_type": "code",
      "execution_count": null,
      "metadata": {
        "id": "QoR_8pJEWjiy"
      },
      "outputs": [],
      "source": [
        "import torch_geometric.nn.functional as F"
      ]
    },
    {
      "cell_type": "code",
      "source": [
        "model1.train()"
      ],
      "metadata": {
        "colab": {
          "base_uri": "https://localhost:8080/"
        },
        "id": "paLten3tCXpt",
        "outputId": "743453f0-5f3d-483b-ecf0-1398d952ec4c"
      },
      "execution_count": null,
      "outputs": [
        {
          "output_type": "execute_result",
          "data": {
            "text/plain": [
              "LinkPredictionModel(\n",
              "  (conv1): RGCNConv(73, 146, num_relations=3461)\n",
              "  (conv2): RGCNConv(146, 73, num_relations=3461)\n",
              "  (fc): Linear(in_features=73, out_features=1, bias=True)\n",
              ")"
            ]
          },
          "metadata": {},
          "execution_count": 204
        }
      ]
    },
    {
      "cell_type": "code",
      "source": [
        "outputs = model1(trainset,trainset.edge_attr)"
      ],
      "metadata": {
        "colab": {
          "base_uri": "https://localhost:8080/"
        },
        "id": "uCBfG7JDCbYT",
        "outputId": "4f1ed61e-0000-4152-a72e-ec437812384d"
      },
      "execution_count": null,
      "outputs": [
        {
          "output_type": "stream",
          "name": "stdout",
          "text": [
            "tensor([[ 0.2597, -0.5425,  0.7525,  ..., -0.4142,  0.8130, -0.2988],\n",
            "        [ 0.0000,  0.0000,  0.0000,  ...,  0.0000,  0.0000,  0.0000],\n",
            "        [ 0.0000,  0.0000,  0.0000,  ...,  0.0000,  0.0000,  0.0000],\n",
            "        ...,\n",
            "        [ 0.0000,  0.0000,  0.0000,  ...,  0.0000,  0.0000,  0.0000],\n",
            "        [ 0.0000,  0.0000,  0.0000,  ...,  0.0000,  0.0000,  0.0000],\n",
            "        [ 0.0000,  0.0000,  0.0000,  ...,  0.0000,  0.0000,  0.0000]],\n",
            "       grad_fn=<DivBackward0>)\n"
          ]
        }
      ]
    },
    {
      "cell_type": "code",
      "source": [
        "outputs = model1(trainset,trainset.edge_attr)"
      ],
      "metadata": {
        "colab": {
          "base_uri": "https://localhost:8080/"
        },
        "id": "GFBhtgZbG9vl",
        "outputId": "941a73c4-0ae6-4cf1-efd9-094020b6e95e"
      },
      "execution_count": null,
      "outputs": [
        {
          "output_type": "stream",
          "name": "stdout",
          "text": [
            "tensor([[0.5136],\n",
            "        [0.5136],\n",
            "        [0.5136],\n",
            "        ...,\n",
            "        [0.5136],\n",
            "        [0.5136],\n",
            "        [0.5136]], grad_fn=<SigmoidBackward0>)\n"
          ]
        }
      ]
    },
    {
      "cell_type": "code",
      "source": [
        "print(len(outputs))"
      ],
      "metadata": {
        "colab": {
          "base_uri": "https://localhost:8080/"
        },
        "id": "hSn1BvXTJbKn",
        "outputId": "07984d77-47d7-4a19-b901-01067871838f"
      },
      "execution_count": null,
      "outputs": [
        {
          "output_type": "stream",
          "name": "stdout",
          "text": [
            "3084\n"
          ]
        }
      ]
    },
    {
      "cell_type": "code",
      "execution_count": null,
      "metadata": {
        "id": "yQG9hOCiWjnc",
        "colab": {
          "base_uri": "https://localhost:8080/"
        },
        "outputId": "adf156d8-d934-471f-a374-c5ce8b40f389"
      },
      "outputs": [
        {
          "output_type": "stream",
          "name": "stdout",
          "text": [
            "tensor([[0.5228],\n",
            "        [0.5228],\n",
            "        [0.5227],\n",
            "        ...,\n",
            "        [0.5228],\n",
            "        [0.5228],\n",
            "        [0.5228]], grad_fn=<SigmoidBackward0>)\n",
            "tensor([[0.5228],\n",
            "        [0.5228],\n",
            "        [0.5227],\n",
            "        ...,\n",
            "        [0.5228],\n",
            "        [0.5228],\n",
            "        [0.5228]], grad_fn=<SigmoidBackward0>)\n",
            "tensor([[0.5228],\n",
            "        [0.5228],\n",
            "        [0.5227],\n",
            "        ...,\n",
            "        [0.5228],\n",
            "        [0.5228],\n",
            "        [0.5228]], grad_fn=<SigmoidBackward0>)\n",
            "tensor([[0.5228],\n",
            "        [0.5228],\n",
            "        [0.5227],\n",
            "        ...,\n",
            "        [0.5228],\n",
            "        [0.5228],\n",
            "        [0.5228]], grad_fn=<SigmoidBackward0>)\n",
            "tensor([[0.5228],\n",
            "        [0.5228],\n",
            "        [0.5227],\n",
            "        ...,\n",
            "        [0.5228],\n",
            "        [0.5228],\n",
            "        [0.5228]], grad_fn=<SigmoidBackward0>)\n",
            "tensor([[0.5228],\n",
            "        [0.5228],\n",
            "        [0.5227],\n",
            "        ...,\n",
            "        [0.5228],\n",
            "        [0.5228],\n",
            "        [0.5228]], grad_fn=<SigmoidBackward0>)\n",
            "tensor([[0.5228],\n",
            "        [0.5228],\n",
            "        [0.5227],\n",
            "        ...,\n",
            "        [0.5228],\n",
            "        [0.5228],\n",
            "        [0.5228]], grad_fn=<SigmoidBackward0>)\n",
            "tensor([[0.5228],\n",
            "        [0.5228],\n",
            "        [0.5227],\n",
            "        ...,\n",
            "        [0.5228],\n",
            "        [0.5228],\n",
            "        [0.5228]], grad_fn=<SigmoidBackward0>)\n",
            "tensor([[0.5228],\n",
            "        [0.5228],\n",
            "        [0.5227],\n",
            "        ...,\n",
            "        [0.5228],\n",
            "        [0.5228],\n",
            "        [0.5228]], grad_fn=<SigmoidBackward0>)\n",
            "tensor([[0.5228],\n",
            "        [0.5228],\n",
            "        [0.5227],\n",
            "        ...,\n",
            "        [0.5228],\n",
            "        [0.5228],\n",
            "        [0.5228]], grad_fn=<SigmoidBackward0>)\n"
          ]
        }
      ],
      "source": [
        "\n",
        "for epoch in range(10):\n",
        "    optimizer.zero_grad()\n",
        "    outputs = model1(trainset,trainset.edge_attr)\n",
        "    #loss = criterion(outputs.squeeze(),trainset.y)\n",
        "    #loss.backward()\n",
        "    optimizer.step()\n",
        "    predictions = (torch.sigmoid(outputs) > 0.5).float()\n",
        "    correct_predictions = (predictions == trainset.y).float()\n",
        "    accuracy = correct_predictions.mean()\n",
        "   # print(f\"Loss: {loss.item()}\")\n"
      ]
    },
    {
      "cell_type": "code",
      "execution_count": null,
      "metadata": {
        "id": "dqmBC_BTGsRe"
      },
      "outputs": [],
      "source": []
    },
    {
      "cell_type": "code",
      "execution_count": null,
      "metadata": {
        "id": "Mv4xty5dxLJL",
        "colab": {
          "base_uri": "https://localhost:8080/"
        },
        "outputId": "8db0f87b-b2b1-4a20-a6bf-f6e34b694af0"
      },
      "outputs": [
        {
          "output_type": "execute_result",
          "data": {
            "text/plain": [
              "LinkPredictionModel(\n",
              "  (conv1): RGCNConv(73, 146, num_relations=3461)\n",
              "  (conv2): RGCNConv(146, 73, num_relations=3461)\n",
              "  (fc): Linear(in_features=73, out_features=1, bias=True)\n",
              ")"
            ]
          },
          "metadata": {},
          "execution_count": 206
        }
      ],
      "source": [
        "model1.eval()"
      ]
    },
    {
      "cell_type": "code",
      "execution_count": null,
      "metadata": {
        "id": "bjiUH5R1Aya7",
        "colab": {
          "base_uri": "https://localhost:8080/"
        },
        "outputId": "c07e63f6-1ea3-4f8c-ad5e-4d15433a558b"
      },
      "outputs": [
        {
          "output_type": "stream",
          "name": "stdout",
          "text": [
            "Accuracy: 50.00%\n"
          ]
        }
      ],
      "source": [
        "print(f\"Accuracy: {accuracy.item() * 100:.2f}%\")"
      ]
    },
    {
      "cell_type": "code",
      "execution_count": null,
      "metadata": {
        "id": "9ywF4YsuUtI_",
        "colab": {
          "base_uri": "https://localhost:8080/"
        },
        "outputId": "3ccae115-9943-4551-8b0f-a276cdc56718"
      },
      "outputs": [
        {
          "output_type": "stream",
          "name": "stdout",
          "text": [
            "tensor([[0.5228],\n",
            "        [0.5228],\n",
            "        [0.5228],\n",
            "        ...,\n",
            "        [0.5228],\n",
            "        [0.5228],\n",
            "        [0.5228]], grad_fn=<SigmoidBackward0>)\n",
            "99.97%\n"
          ]
        }
      ],
      "source": [
        "out = model1(testset,testset.edge_attr)\n",
        "prediction = (torch.sigmoid(out) > 0.5).float()\n",
        "correct_predictions = prediction.mean()\n",
        "print(f'{correct_predictions*100:.2f}%')"
      ]
    },
    {
      "cell_type": "code",
      "execution_count": null,
      "metadata": {
        "id": "hhOop19kUtMf",
        "colab": {
          "base_uri": "https://localhost:8080/"
        },
        "outputId": "b45b656f-3df4-4f98-e443-70d9adc042ee"
      },
      "outputs": [
        {
          "output_type": "stream",
          "name": "stdout",
          "text": [
            "tensor([[0.5228],\n",
            "        [0.5228],\n",
            "        [0.5228],\n",
            "        ...,\n",
            "        [0.5228],\n",
            "        [0.5228],\n",
            "        [0.5228]], grad_fn=<SigmoidBackward0>)\n",
            "99.94%\n"
          ]
        }
      ],
      "source": [
        "out1 = model1(valset,valset.edge_attr)\n",
        "predictions = (torch.sigmoid(out1) > 0.5).float()\n",
        "correct_prediction = predictions.mean()\n",
        "print(f'{correct_prediction.item()*100:.2f}%')"
      ]
    }
  ],
  "metadata": {
    "colab": {
      "provenance": []
    },
    "kernelspec": {
      "display_name": "Python 3",
      "name": "python3"
    },
    "language_info": {
      "name": "python"
    },
    "accelerator": "TPU"
  },
  "nbformat": 4,
  "nbformat_minor": 0
}